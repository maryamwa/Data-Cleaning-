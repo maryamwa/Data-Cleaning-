{
 "cells": [
  {
   "cell_type": "code",
   "execution_count": 1,
   "metadata": {},
   "outputs": [],
   "source": [
    "import pandas as pd\n",
    "import seaborn as sns\n",
    "data = pd.read_csv('/Users/maryamwalidaliramadan/Desktop/user1.features_labels.csv')"
   ]
  },
  {
   "cell_type": "code",
   "execution_count": 3,
   "metadata": {},
   "outputs": [
    {
     "data": {
      "text/html": [
       "<div>\n",
       "<style scoped>\n",
       "    .dataframe tbody tr th:only-of-type {\n",
       "        vertical-align: middle;\n",
       "    }\n",
       "\n",
       "    .dataframe tbody tr th {\n",
       "        vertical-align: top;\n",
       "    }\n",
       "\n",
       "    .dataframe thead th {\n",
       "        text-align: right;\n",
       "    }\n",
       "</style>\n",
       "<table border=\"1\" class=\"dataframe\">\n",
       "  <thead>\n",
       "    <tr style=\"text-align: right;\">\n",
       "      <th></th>\n",
       "      <th>timestamp</th>\n",
       "      <th>raw_acc:magnitude_stats:mean</th>\n",
       "      <th>raw_acc:magnitude_stats:std</th>\n",
       "      <th>raw_acc:magnitude_stats:moment3</th>\n",
       "      <th>raw_acc:magnitude_stats:moment4</th>\n",
       "      <th>raw_acc:magnitude_stats:percentile25</th>\n",
       "      <th>raw_acc:magnitude_stats:percentile50</th>\n",
       "      <th>raw_acc:magnitude_stats:percentile75</th>\n",
       "      <th>raw_acc:magnitude_stats:value_entropy</th>\n",
       "      <th>raw_acc:magnitude_stats:time_entropy</th>\n",
       "      <th>...</th>\n",
       "      <th>label:STAIRS_-_GOING_DOWN</th>\n",
       "      <th>label:ELEVATOR</th>\n",
       "      <th>label:OR_standing</th>\n",
       "      <th>label:AT_SCHOOL</th>\n",
       "      <th>label:PHONE_IN_HAND</th>\n",
       "      <th>label:PHONE_IN_BAG</th>\n",
       "      <th>label:PHONE_ON_TABLE</th>\n",
       "      <th>label:WITH_CO-WORKERS</th>\n",
       "      <th>label:WITH_FRIENDS</th>\n",
       "      <th>label_source</th>\n",
       "    </tr>\n",
       "  </thead>\n",
       "  <tbody>\n",
       "    <tr>\n",
       "      <th>0</th>\n",
       "      <td>1464129912</td>\n",
       "      <td>1.011438</td>\n",
       "      <td>0.012573</td>\n",
       "      <td>0.023013</td>\n",
       "      <td>0.041240</td>\n",
       "      <td>1.006184</td>\n",
       "      <td>1.010868</td>\n",
       "      <td>1.016028</td>\n",
       "      <td>0.935099</td>\n",
       "      <td>6.684536</td>\n",
       "      <td>...</td>\n",
       "      <td>0.0</td>\n",
       "      <td>NaN</td>\n",
       "      <td>0.0</td>\n",
       "      <td>0.0</td>\n",
       "      <td>NaN</td>\n",
       "      <td>NaN</td>\n",
       "      <td>NaN</td>\n",
       "      <td>1.0</td>\n",
       "      <td>0.0</td>\n",
       "      <td>2</td>\n",
       "    </tr>\n",
       "    <tr>\n",
       "      <th>1</th>\n",
       "      <td>1464129950</td>\n",
       "      <td>1.011233</td>\n",
       "      <td>0.009356</td>\n",
       "      <td>-0.005622</td>\n",
       "      <td>0.016687</td>\n",
       "      <td>1.006338</td>\n",
       "      <td>1.010926</td>\n",
       "      <td>1.016657</td>\n",
       "      <td>1.732968</td>\n",
       "      <td>6.684569</td>\n",
       "      <td>...</td>\n",
       "      <td>0.0</td>\n",
       "      <td>NaN</td>\n",
       "      <td>0.0</td>\n",
       "      <td>0.0</td>\n",
       "      <td>NaN</td>\n",
       "      <td>NaN</td>\n",
       "      <td>NaN</td>\n",
       "      <td>1.0</td>\n",
       "      <td>0.0</td>\n",
       "      <td>2</td>\n",
       "    </tr>\n",
       "    <tr>\n",
       "      <th>2</th>\n",
       "      <td>1464130031</td>\n",
       "      <td>1.013422</td>\n",
       "      <td>0.018068</td>\n",
       "      <td>-0.008593</td>\n",
       "      <td>0.039286</td>\n",
       "      <td>1.004077</td>\n",
       "      <td>1.012983</td>\n",
       "      <td>1.021926</td>\n",
       "      <td>1.464639</td>\n",
       "      <td>6.684453</td>\n",
       "      <td>...</td>\n",
       "      <td>0.0</td>\n",
       "      <td>NaN</td>\n",
       "      <td>0.0</td>\n",
       "      <td>0.0</td>\n",
       "      <td>NaN</td>\n",
       "      <td>NaN</td>\n",
       "      <td>NaN</td>\n",
       "      <td>1.0</td>\n",
       "      <td>0.0</td>\n",
       "      <td>2</td>\n",
       "    </tr>\n",
       "    <tr>\n",
       "      <th>3</th>\n",
       "      <td>1464130109</td>\n",
       "      <td>1.014891</td>\n",
       "      <td>0.016400</td>\n",
       "      <td>0.021383</td>\n",
       "      <td>0.038825</td>\n",
       "      <td>1.005934</td>\n",
       "      <td>1.014670</td>\n",
       "      <td>1.023000</td>\n",
       "      <td>1.440043</td>\n",
       "      <td>6.684483</td>\n",
       "      <td>...</td>\n",
       "      <td>0.0</td>\n",
       "      <td>NaN</td>\n",
       "      <td>0.0</td>\n",
       "      <td>0.0</td>\n",
       "      <td>NaN</td>\n",
       "      <td>NaN</td>\n",
       "      <td>NaN</td>\n",
       "      <td>1.0</td>\n",
       "      <td>0.0</td>\n",
       "      <td>2</td>\n",
       "    </tr>\n",
       "    <tr>\n",
       "      <th>4</th>\n",
       "      <td>1464130130</td>\n",
       "      <td>1.017487</td>\n",
       "      <td>0.022632</td>\n",
       "      <td>-0.012891</td>\n",
       "      <td>0.037226</td>\n",
       "      <td>1.006040</td>\n",
       "      <td>1.017587</td>\n",
       "      <td>1.028168</td>\n",
       "      <td>1.937362</td>\n",
       "      <td>6.684364</td>\n",
       "      <td>...</td>\n",
       "      <td>0.0</td>\n",
       "      <td>NaN</td>\n",
       "      <td>0.0</td>\n",
       "      <td>0.0</td>\n",
       "      <td>NaN</td>\n",
       "      <td>NaN</td>\n",
       "      <td>NaN</td>\n",
       "      <td>1.0</td>\n",
       "      <td>0.0</td>\n",
       "      <td>2</td>\n",
       "    </tr>\n",
       "  </tbody>\n",
       "</table>\n",
       "<p>5 rows × 278 columns</p>\n",
       "</div>"
      ],
      "text/plain": [
       "    timestamp  raw_acc:magnitude_stats:mean  raw_acc:magnitude_stats:std  \\\n",
       "0  1464129912                      1.011438                     0.012573   \n",
       "1  1464129950                      1.011233                     0.009356   \n",
       "2  1464130031                      1.013422                     0.018068   \n",
       "3  1464130109                      1.014891                     0.016400   \n",
       "4  1464130130                      1.017487                     0.022632   \n",
       "\n",
       "   raw_acc:magnitude_stats:moment3  raw_acc:magnitude_stats:moment4  \\\n",
       "0                         0.023013                         0.041240   \n",
       "1                        -0.005622                         0.016687   \n",
       "2                        -0.008593                         0.039286   \n",
       "3                         0.021383                         0.038825   \n",
       "4                        -0.012891                         0.037226   \n",
       "\n",
       "   raw_acc:magnitude_stats:percentile25  raw_acc:magnitude_stats:percentile50  \\\n",
       "0                              1.006184                              1.010868   \n",
       "1                              1.006338                              1.010926   \n",
       "2                              1.004077                              1.012983   \n",
       "3                              1.005934                              1.014670   \n",
       "4                              1.006040                              1.017587   \n",
       "\n",
       "   raw_acc:magnitude_stats:percentile75  \\\n",
       "0                              1.016028   \n",
       "1                              1.016657   \n",
       "2                              1.021926   \n",
       "3                              1.023000   \n",
       "4                              1.028168   \n",
       "\n",
       "   raw_acc:magnitude_stats:value_entropy  \\\n",
       "0                               0.935099   \n",
       "1                               1.732968   \n",
       "2                               1.464639   \n",
       "3                               1.440043   \n",
       "4                               1.937362   \n",
       "\n",
       "   raw_acc:magnitude_stats:time_entropy  ...  label:STAIRS_-_GOING_DOWN  \\\n",
       "0                              6.684536  ...                        0.0   \n",
       "1                              6.684569  ...                        0.0   \n",
       "2                              6.684453  ...                        0.0   \n",
       "3                              6.684483  ...                        0.0   \n",
       "4                              6.684364  ...                        0.0   \n",
       "\n",
       "   label:ELEVATOR  label:OR_standing  label:AT_SCHOOL  label:PHONE_IN_HAND  \\\n",
       "0             NaN                0.0              0.0                  NaN   \n",
       "1             NaN                0.0              0.0                  NaN   \n",
       "2             NaN                0.0              0.0                  NaN   \n",
       "3             NaN                0.0              0.0                  NaN   \n",
       "4             NaN                0.0              0.0                  NaN   \n",
       "\n",
       "   label:PHONE_IN_BAG  label:PHONE_ON_TABLE  label:WITH_CO-WORKERS  \\\n",
       "0                 NaN                   NaN                    1.0   \n",
       "1                 NaN                   NaN                    1.0   \n",
       "2                 NaN                   NaN                    1.0   \n",
       "3                 NaN                   NaN                    1.0   \n",
       "4                 NaN                   NaN                    1.0   \n",
       "\n",
       "   label:WITH_FRIENDS  label_source  \n",
       "0                 0.0             2  \n",
       "1                 0.0             2  \n",
       "2                 0.0             2  \n",
       "3                 0.0             2  \n",
       "4                 0.0             2  \n",
       "\n",
       "[5 rows x 278 columns]"
      ]
     },
     "execution_count": 3,
     "metadata": {},
     "output_type": "execute_result"
    }
   ],
   "source": [
    "data.head( )"
   ]
  },
  {
   "cell_type": "markdown",
   "metadata": {},
   "source": [
    "**changing the labels from ( 0/1 ) into --> ( relevant and not relevant )** "
   ]
  },
  {
   "cell_type": "code",
   "execution_count": 4,
   "metadata": {},
   "outputs": [],
   "source": [
    "data['label:AT_SCHOOL'] = data['label:AT_SCHOOL'].replace(0.0, 'not relevant')\n",
    "data['label:AT_SCHOOL'] = data['label:AT_SCHOOL'].replace(1.0, 'relevant')\n",
    "\n",
    "data['label:LYING_DOWN'] = data['label:LYING_DOWN'].replace(0.0, 'not relevant')\n",
    "data['label:LYING_DOWN'] = data['label:LYING_DOWN'].replace(1.0, 'relevant')\n",
    "\n",
    "data['label:SITTING'] = data['label:SITTING'].replace(0.0, 'not relevant')\n",
    "data['label:SITTING'] = data['label:SITTING'].replace(1.0, 'relevant')\n",
    "\n",
    "data['label:FIX_walking'] = data['label:FIX_walking'].replace(0.0, 'not relevant')\n",
    "data['label:FIX_walking'] = data['label:FIX_walking'].replace(1.0, 'relevant')\n",
    "\n",
    "\n",
    "data['label:FIX_running'] = data['label:FIX_running'].replace(0.0, 'not relevant')\n",
    "\n",
    "\n",
    "\n",
    "data['label:SLEEPING'] = data['label:SLEEPING'].replace(0.0, 'not relevant')\n",
    "data['label:SLEEPING'] = data['label:SLEEPING'].replace(1.0, 'relevant')\n",
    "\n",
    "\n",
    "data['label:IN_A_MEETING'] = data['label:IN_A_MEETING'].replace(0.0, 'not relevant')\n",
    "data['label:IN_A_MEETING'] = data['label:IN_A_MEETING'].replace(1.0, 'relevant')\n",
    "\n",
    "\n",
    "\n",
    "data['label:LOC_main_workplace'] = data['label:LOC_main_workplace'].replace(0.0, 'not relevant')\n",
    "data['label:LOC_main_workplace'] = data['label:LOC_main_workplace'].replace(1.0, 'relevant')\n",
    "\n",
    "data['label:OR_indoors'] = data['label:OR_indoors'].replace(0.0, 'not relevant')\n",
    "data['label:OR_indoors'] = data['label:OR_indoors'].replace(1.0, 'relevant')\n",
    "\n",
    "data['label:OR_outside'] = data['label:OR_outside'].replace(0.0, 'not relevant')\n",
    "data['label:OR_outside'] = data['label:OR_outside'].replace(1.0, 'relevant')\n",
    "\n",
    "\n",
    "\n",
    "data['label:IN_A_CAR'] = data['label:IN_A_CAR'].replace(0.0, 'not relevant')\n",
    "data['label:IN_A_CAR'] = data['label:IN_A_CAR'].replace(1.0, 'relevant')\n",
    "\n",
    "\n",
    "data['label:ON_A_BUS'] = data['label:ON_A_BUS'].replace(0.0, 'not relevant')\n",
    "data['label:ON_A_BUS'] = data['label:ON_A_BUS'].replace(1.0, 'relevant')\n",
    "\n",
    "\n",
    "data['label:DRIVE_-_I_M_THE_DRIVER'] = data['label:DRIVE_-_I_M_THE_DRIVER'].replace(0.0, 'not relevant')\n",
    "data['label:DRIVE_-_I_M_THE_DRIVER'] = data['label:DRIVE_-_I_M_THE_DRIVER'].replace(1.0, 'relevant')\n",
    "\n",
    "\n",
    "data['label:DRIVE_-_I_M_A_PASSENGER'] = data['label:DRIVE_-_I_M_A_PASSENGER'].replace(0.0, 'not relevant')\n",
    "data['label:DRIVE_-_I_M_A_PASSENGER'] = data['label:DRIVE_-_I_M_A_PASSENGER'].replace(1.0, 'relevant')\n",
    "\n",
    "\n",
    "data['label:LOC_home'] = data['label:LOC_home'].replace(0.0, 'not relevant')\n",
    "data['label:LOC_home'] = data['label:LOC_home'].replace(1.0, 'relevant')\n",
    "\n",
    "\n",
    "\n",
    "data['label:FIX_restaurant'] = data['label:FIX_restaurant'].replace(0.0, 'not relevant')\n",
    "\n",
    "\n",
    "data['label:PHONE_IN_POCKET'] = data['label:PHONE_IN_POCKET'].replace(0.0, 'not relevant')\n",
    "data['label:PHONE_IN_POCKET'] = data['label:PHONE_IN_POCKET'].replace(1.0, 'relevant')\n",
    "\n",
    "\n",
    "\n",
    "data['label:OR_exercise'] = data['label:OR_exercise'].replace(0.0, 'not relevant')\n",
    "\n",
    "\n",
    "data['label:COOKING'] = data['label:COOKING'].replace(0.0, 'not relevant')\n",
    "data['label:COOKING'] = data['label:COOKING'].replace(1.0, 'relevant')\n",
    "\n",
    "\n",
    "data['label:SHOPPING'] = data['label:SHOPPING'].replace(0.0, 'not relevant')\n",
    "\n",
    "\n",
    "data['label:STROLLING'] = data['label:STROLLING'].replace(0.0, 'not relevant')\n",
    "\n",
    "\n",
    "data['label:DRINKING__ALCOHOL_'] = data['label:DRINKING__ALCOHOL_'].replace(0.0, 'not relevant')\n",
    "\n",
    "\n",
    "data['label:BATHING_-_SHOWER'] = data['label:BATHING_-_SHOWER'].replace(0.0, 'not relevant')\n",
    "\n",
    "data['label:DOING_LAUNDRY'] = data['label:DOING_LAUNDRY'].replace(0.0, 'not relevant')\n",
    "\n",
    "data['label:WASHING_DISHES'] = data['label:WASHING_DISHES'].replace(0.0, 'not relevant')\n",
    "data['label:WASHING_DISHES'] = data['label:WASHING_DISHES'].replace(1.0, 'relevant')\n",
    "\n",
    "data['label:WATCHING_TV'] = data['label:WATCHING_TV'].replace(0.0, 'not relevant')\n",
    "data['label:WATCHING_TV'] = data['label:WATCHING_TV'].replace(1.0, 'relevant')\n",
    "\n",
    "data['label:SURFING_THE_INTERNET'] = data['label:SURFING_THE_INTERNET'].replace(0.0, 'not relevant')\n",
    "data['label:SURFING_THE_INTERNET'] = data['label:SURFING_THE_INTERNET'].replace(1.0, 'relevant')\n",
    "\n",
    "data['label:SINGING'] = data['label:SINGING'].replace(0.0, 'not relevant')\n",
    "\n",
    "data['label:TALKING'] = data['label:TALKING'].replace(0.0, 'not relevant')\n",
    "data['label:TALKING'] = data['label:TALKING'].replace(1.0, 'relevant')\n",
    "\n",
    "\n",
    "data['label:COMPUTER_WORK'] = data['label:COMPUTER_WORK'].replace(0.0, 'not relevant')\n",
    "data['label:COMPUTER_WORK'] = data['label:COMPUTER_WORK'].replace(1.0, 'relevant')\n",
    "\n",
    "data['label:EATING'] = data['label:EATING'].replace(0.0, 'not relevant')\n",
    "data['label:EATING'] = data['label:EATING'].replace(1.0, 'relevant')\n",
    "\n",
    "data['label:TOILET'] = data['label:TOILET'].replace(0.0, 'not relevant')\n",
    "data['label:TOILET'] = data['label:TOILET'].replace(1.0, 'relevant')\n",
    "\n",
    "data['label:GROOMING'] = data['label:GROOMING'].replace(0.0, 'not relevant')\n",
    "data['label:GROOMING'] = data['label:GROOMING'].replace(1.0, 'relevant')\n",
    "\n",
    "data['label:DRESSING'] = data['label:DRESSING'].replace(0.0, 'not relevant')\n",
    "data['label:DRESSING'] = data['label:DRESSING'].replace(1.0, 'relevant')\n",
    "\n",
    "\n",
    "data['label:STAIRS_-_GOING_UP'] = data['label:STAIRS_-_GOING_UP'].replace(0.0, 'not relevant')\n",
    "\n",
    "data['label:STAIRS_-_GOING_DOWN'] = data['label:STAIRS_-_GOING_DOWN'].replace(0.0, 'not relevant')\n",
    "\n",
    "data['label:OR_standing'] = data['label:OR_standing'].replace(0.0, 'not relevant')\n",
    "data['label:OR_standing'] = data['label:OR_standing'].replace(1.0, 'relevant')\n",
    "\n",
    "data['label:AT_SCHOOL'] = data['label:AT_SCHOOL'].replace(0.0, 'not relevant')\n",
    "data['label:AT_SCHOOL'] = data['label:AT_SCHOOL'].replace(1.0, 'relevant')\n",
    "\n",
    "data['label:PHONE_IN_HAND'] = data['label:PHONE_IN_HAND'].replace(0.0, 'not relevant')\n",
    "data['label:PHONE_IN_HAND'] = data['label:PHONE_IN_HAND'].replace(1.0, 'relevant')\n",
    "\n",
    "\n",
    "data['label:PHONE_ON_TABLE'] = data['label:PHONE_ON_TABLE'].replace(0.0, 'not relevant')\n",
    "data['label:PHONE_ON_TABLE'] = data['label:PHONE_ON_TABLE'].replace(1.0, 'relevant')\n",
    "\n",
    "data['label:WITH_CO-WORKERS'] = data['label:WITH_CO-WORKERS'].replace(0.0, 'not relevant')\n",
    "data['label:WITH_CO-WORKERS'] = data['label:WITH_CO-WORKERS'].replace(1.0, 'relevant')\n",
    "\n",
    "data['label:WITH_FRIENDS'] = data['label:WITH_FRIENDS'].replace(0.0, 'not relevant')\n",
    "data['label:WITH_FRIENDS'] = data['label:WITH_FRIENDS'].replace(1.0, 'relevant')\n",
    "\n",
    "data['label:PHONE_IN_HAND'] = data['label:PHONE_IN_HAND'].replace(0.0, 'not relevant')\n",
    "data['label:PHONE_IN_HAND'] = data['label:PHONE_IN_HAND'].replace(1.0, 'relevant')\n",
    "\n"
   ]
  },
  {
   "cell_type": "markdown",
   "metadata": {},
   "source": [
    "**changing the discrete attributes from 0/1 into yes/no (to make it more reasonable**\n",
    "\n",
    "*discrete values :* \n",
    "\n",
    "1- app state ('is active' , 'is inactive' , 'missing' ,'is background')\n",
    "\n",
    "2- battery_plugged ('is active' , 'is_usb' , 'is wireless' , 'missing' )\n",
    "\n",
    "3- battery state ( 'is unkown' , 'is unplugged' , 'is not charging', 'is discharging' , 'is charging' , 'is full' , 'missing' )\n",
    "\n",
    "4- on the phone ('is false' , 'is true' , 'missing' )\n",
    "\n",
    "5- ringer mode ( 'is normal' , 'is slient no vibrate' , 'is silent with vibrate' , 'missing')\n",
    "\n",
    "6- wifi status ('is not reachable' , 'is reachable via wifi' , 'is reachable via wwan' , 'missing')\n",
    "\n",
    "7- time of day ( 'between 0 and 6' , 'between 3 and 9' , 'between 6 and 12' , 'between 9 and 15' , 'between 12 and 18'\n",
    ", 'between 15 and 21' , 'between 18 and 24' , between 21 and 3 )"
   ]
  },
  {
   "cell_type": "code",
   "execution_count": 5,
   "metadata": {},
   "outputs": [],
   "source": [
    "# they have only zeros = (No) \n",
    "data['discrete:app_state:is_active'] = data['discrete:app_state:is_active'].replace(0.0, 'No')\n",
    "data['discrete:app_state:is_inactive'] = data['discrete:app_state:is_inactive'].replace(0.0, 'No')\n",
    "data['discrete:app_state:is_background'] = data['discrete:app_state:is_background'].replace(0.0, 'No')\n",
    "data['discrete:battery_plugged:is_wireless'] = data['discrete:battery_plugged:is_wireless'].replace(0.0, 'No')\n",
    "data['discrete:battery_state:is_unknown'] = data['discrete:battery_state:is_unknown'].replace(0.0, 'No')\n",
    "data['discrete:battery_state:is_unplugged'] = data ['discrete:battery_state:is_unplugged'].replace(0.0, 'No')\n",
    "data['discrete:battery_state:is_not_charging'] = data['discrete:battery_state:is_not_charging'].replace(0.0, 'No')\n",
    "data['discrete:wifi_status:is_reachable_via_wwan'] = data['discrete:wifi_status:is_reachable_via_wwan'].replace(0.0, 'No')\n",
    "\n",
    "\n",
    "# they have only ones = (Yes) \n",
    "data['discrete:app_state:missing'] = data ['discrete:app_state:missing'].replace(1.0 , 'Yes')\n",
    "\n",
    "# have both 0 and 1 --> yes/no\n",
    "data['discrete:battery_plugged:is_ac'] = data['discrete:battery_plugged:is_ac'].replace(0.0,'No')\n",
    "data['discrete:battery_plugged:is_ac'] = data['discrete:battery_plugged:is_ac'].replace(1.0,'Yes')\n",
    "\n",
    "data['discrete:battery_plugged:is_usb'] = data['discrete:battery_plugged:is_usb'].replace(0.0, 'No')\n",
    "data['discrete:battery_plugged:is_usb'] = data['discrete:battery_plugged:is_usb'].replace(1.0, 'Yes')\n",
    "\n",
    "data['discrete:battery_plugged:missing'] = data['discrete:battery_plugged:missing'].replace(0.0, 'No')\n",
    "data['discrete:battery_plugged:missing'] = data['discrete:battery_plugged:missing'].replace(1.0, 'Yes')\n",
    "\n",
    "data['discrete:battery_state:is_charging'] = data['discrete:battery_state:is_charging'].replace(0.0, 'No')\n",
    "data['discrete:battery_state:is_charging'] = data['discrete:battery_state:is_charging'].replace(1.0, 'Yes')\n",
    "\n",
    "data['discrete:battery_state:is_full'] = data['discrete:battery_state:is_full'].replace(0.0 , 'No')\n",
    "data['discrete:battery_state:is_full'] = data['discrete:battery_state:is_full'].replace(1.0 , 'Yes')\n",
    "\n",
    "data['discrete:battery_state:missing'] = data['discrete:battery_state:missing'].replace(0.0, 'No')\n",
    "data['discrete:battery_state:missing'] = data['discrete:battery_state:missing'].replace(1.0, 'Yes')\n",
    "\n",
    "data['discrete:on_the_phone:is_False'] = data['discrete:on_the_phone:is_False'].replace(0.0, 'No')\n",
    "data['discrete:on_the_phone:is_False'] = data['discrete:on_the_phone:is_False'].replace(1.0, 'Yes')\n",
    "\n",
    "data['discrete:on_the_phone:is_True'] = data['discrete:on_the_phone:is_True'].replace(0.0, 'No')\n",
    "data['discrete:on_the_phone:is_True'] = data['discrete:on_the_phone:is_True'].replace(1.0, 'Yes')\n",
    "\n",
    "data['discrete:on_the_phone:missing'] = data['discrete:on_the_phone:missing'].replace(0.0, 'No')\n",
    "data['discrete:on_the_phone:missing'] = data['discrete:on_the_phone:missing'].replace(1.0, 'Yes')\n",
    "\n",
    "data['discrete:ringer_mode:is_normal'] = data['discrete:ringer_mode:is_normal'].replace(0.0, 'No')\n",
    "data['discrete:ringer_mode:is_normal'] = data['discrete:ringer_mode:is_normal'].replace(1.0, 'Yes')\n",
    "\n",
    "data['discrete:ringer_mode:is_silent_no_vibrate'] = data['discrete:ringer_mode:is_silent_no_vibrate'].replace(0.0, 'No')\n",
    "data['discrete:ringer_mode:is_silent_no_vibrate'] = data['discrete:ringer_mode:is_silent_no_vibrate'].replace(1.0, 'Yes')\n",
    "\n",
    "data['discrete:ringer_mode:is_silent_with_vibrate'] = data['discrete:ringer_mode:is_silent_with_vibrate'].replace(0.0, 'No')\n",
    "data['discrete:ringer_mode:is_silent_with_vibrate'] = data['discrete:ringer_mode:is_silent_with_vibrate'].replace(1.0, 'Yes')\n",
    "\n",
    "data['discrete:ringer_mode:missing'] = data['discrete:ringer_mode:missing'].replace(0.0, 'No')\n",
    "data['discrete:ringer_mode:missing'] = data['discrete:ringer_mode:missing'].replace(1.0, 'Yes')\n",
    "\n",
    "data['discrete:wifi_status:is_not_reachable'] = data['discrete:wifi_status:is_not_reachable'].replace(0.0, 'No')\n",
    "data['discrete:wifi_status:is_not_reachable'] = data['discrete:wifi_status:is_not_reachable'].replace(1.0, 'Yes')\n",
    "\n",
    "data['discrete:wifi_status:is_reachable_via_wifi'] = data['discrete:wifi_status:is_reachable_via_wifi'].replace(0.0, 'No')\n",
    "data['discrete:wifi_status:is_reachable_via_wifi'] = data['discrete:wifi_status:is_reachable_via_wifi'].replace(1.0, 'Yes')\n",
    "\n",
    "data['discrete:wifi_status:missing'] = data['discrete:wifi_status:missing'].replace(0.0, 'No')\n",
    "data['discrete:wifi_status:missing'] = data['discrete:wifi_status:missing'].replace(1.0, 'Yes')\n",
    "\n",
    "data['discrete:time_of_day:between0and6'] = data['discrete:time_of_day:between0and6'].replace(0.0, 'No')\n",
    "data['discrete:time_of_day:between0and6'] = data['discrete:time_of_day:between0and6'].replace(1.0, 'Yes')\n",
    "\n",
    "data['discrete:time_of_day:between3and9'] = data['discrete:time_of_day:between3and9'].replace(0.0, 'No')\n",
    "data['discrete:time_of_day:between3and9'] = data['discrete:time_of_day:between3and9'].replace(1.0, 'Yes')\n",
    "\n",
    "data['discrete:time_of_day:between6and12'] = data['discrete:time_of_day:between6and12'].replace(0.0, 'No')\n",
    "data['discrete:time_of_day:between6and12'] = data['discrete:time_of_day:between6and12'].replace(1.0, 'Yes')\n",
    "\n",
    "data['discrete:time_of_day:between9and15'] = data['discrete:time_of_day:between9and15'].replace(0.0, 'No')\n",
    "data['discrete:time_of_day:between9and15'] = data['discrete:time_of_day:between9and15'].replace(1.0, 'Yes')\n",
    "\n",
    "data['discrete:time_of_day:between12and18'] = data['discrete:time_of_day:between12and18'].replace(0.0, 'No')\n",
    "data['discrete:time_of_day:between12and18'] = data['discrete:time_of_day:between12and18'].replace(1.0, 'Yes')\n",
    "\n",
    "data['discrete:time_of_day:between15and21'] = data['discrete:time_of_day:between15and21'].replace(0.0, 'No')\n",
    "data['discrete:time_of_day:between15and21'] = data['discrete:time_of_day:between15and21'].replace(1.0, 'Yes')\n",
    "\n",
    "data['discrete:time_of_day:between18and24'] = data['discrete:time_of_day:between18and24'].replace(0.0, 'No')\n",
    "data['discrete:time_of_day:between18and24'] = data['discrete:time_of_day:between18and24'].replace(1.0, 'Yes')\n",
    "\n",
    "data['discrete:time_of_day:between21and3'] = data['discrete:time_of_day:between21and3'].replace(1.0, 'Yes')\n",
    "data['discrete:time_of_day:between21and3'] = data['discrete:time_of_day:between21and3'].replace(0.0, 'No')\n"
   ]
  },
  {
   "cell_type": "code",
   "execution_count": 6,
   "metadata": {},
   "outputs": [
    {
     "data": {
      "text/plain": [
       "0    No\n",
       "1    No\n",
       "2    No\n",
       "3    No\n",
       "4    No\n",
       "Name: discrete:app_state:is_active, dtype: object"
      ]
     },
     "execution_count": 6,
     "metadata": {},
     "output_type": "execute_result"
    }
   ],
   "source": [
    "# testing\n",
    "data['discrete:app_state:is_active'].head()"
   ]
  },
  {
   "cell_type": "markdown",
   "metadata": {},
   "source": [
    "Now, to make our data more clear and have less rows with useful informations without loosing any important info, we'll combine the attributes within the same discrete values that have the (No) result with each other, as they'll have the same outcome instead of having multilpe columns that have diff names with the same results . \n",
    "\n",
    "Meaning that, if we have the column (app state) and this column have the attributes ('is active' , 'is inactive' ,'is background') with the outcome (No), we'll create a single column that combine all of these attributes with the (No) result as all of them have the (No) outcome . E.g --> we can call it as : app_state:active_inactice_backgroud. \n",
    "and so on for the rest of the attributes except the attributes that have the outcomes that consist of (yes/no). As they don't have the same count and similiar outcomes .  \n",
    "\n",
    "To do that, we need to drop some rows within the same group (discrete values) and just keep one of them and rename it "
   ]
  },
  {
   "cell_type": "code",
   "execution_count": 9,
   "metadata": {},
   "outputs": [],
   "source": [
    "data.drop(columns = ['discrete:app_state:is_inactive', 'discrete:app_state:is_background'], axis=1, inplace=True)"
   ]
  },
  {
   "cell_type": "code",
   "execution_count": 7,
   "metadata": {},
   "outputs": [],
   "source": [
    "# here i picked 'discrete:app_state:is_active' column which will be the column that combines the 3 columns as a single result\n",
    "data.rename(columns={'discrete:app_state:is_active': \"App_State:Active_Inactive_Background\"}, inplace=True)"
   ]
  },
  {
   "cell_type": "code",
   "execution_count": 10,
   "metadata": {},
   "outputs": [
    {
     "data": {
      "text/plain": [
       "0    No\n",
       "1    No\n",
       "2    No\n",
       "3    No\n",
       "4    No\n",
       "Name: App_State:Active_Inactive_Background, dtype: object"
      ]
     },
     "execution_count": 10,
     "metadata": {},
     "output_type": "execute_result"
    }
   ],
   "source": [
    "data['App_State:Active_Inactive_Background'].head()"
   ]
  },
  {
   "cell_type": "code",
   "execution_count": 11,
   "metadata": {},
   "outputs": [],
   "source": [
    "# will do the same for battery_state column for (No) coutcomes\n",
    "data.drop(columns = ['discrete:battery_state:is_unplugged', 'discrete:battery_state:is_not_charging'], axis=1, inplace=True)"
   ]
  },
  {
   "cell_type": "code",
   "execution_count": 12,
   "metadata": {},
   "outputs": [],
   "source": [
    "# renaming the column as it will combine the 3 results \n",
    "data.rename(columns={'discrete:battery_state:is_unknown': \"battery_state:unplugged_notCharging_unknown\"}, inplace=True)"
   ]
  },
  {
   "cell_type": "code",
   "execution_count": 14,
   "metadata": {},
   "outputs": [
    {
     "data": {
      "text/plain": [
       "0    No\n",
       "1    No\n",
       "2    No\n",
       "3    No\n",
       "4    No\n",
       "Name: battery_state:unplugged_notCharging_unknown, dtype: object"
      ]
     },
     "execution_count": 14,
     "metadata": {},
     "output_type": "execute_result"
    }
   ],
   "source": [
    "data['battery_state:unplugged_notCharging_unknown'].head()"
   ]
  },
  {
   "cell_type": "code",
   "execution_count": 17,
   "metadata": {},
   "outputs": [
    {
     "data": {
      "text/plain": [
       "(2685, 274)"
      ]
     },
     "execution_count": 17,
     "metadata": {},
     "output_type": "execute_result"
    }
   ],
   "source": [
    "data.shape\n",
    "# as we can see here that we reduced the number of columns so far from 278 to 274 "
   ]
  },
  {
   "cell_type": "code",
   "execution_count": 32,
   "metadata": {},
   "outputs": [],
   "source": [
    "# renaming columns that are discrete into a normal name by removing the 'discrete' keyword\n",
    "# (as we applied the discrete concept by changing the values from 0/1 into yes/no)\n",
    "\n",
    "data.rename(columns={'discrete:battery_plugged:is_wireless': \"battery_plugged:is_wireless\"}, inplace=True)\n",
    "data.rename(columns={'discrete:wifi_status:is_reachable_via_wwan': \"wifi_status:is_reachable_via_wwan\"}, inplace=True)\n",
    "data.rename(columns={'discrete:app_state:missing': \"app_state:missing\"}, inplace=True)\n",
    "data.rename(columns={'discrete:battery_plugged:is_ac': \"battery_plugged:is_active\"}, inplace=True)\n",
    "data.rename(columns={'discrete:battery_plugged:is_usb': \"battery_plugged:is_usb\"}, inplace=True)\n",
    "data.rename(columns={'discrete:battery_plugged:missing': \"battery_plugged:missing\"}, inplace=True)\n",
    "data.rename(columns={'discrete:battery_state:is_charging': \"battery_state:is_charging\"}, inplace=True)\n",
    "data.rename(columns={'discrete:battery_state:is_full': \"battery_state:is_full\"}, inplace=True)\n",
    "data.rename(columns={'discrete:battery_state:missing': \"battery_state:missing\"}, inplace=True)\n",
    "data.rename(columns={'discrete:on_the_phone:is_False': \"on_the_phone:is_False\"}, inplace=True)\n",
    "data.rename(columns={'discrete:on_the_phone:is_True': \"on_the_phone:is_True\"}, inplace=True)\n",
    "data.rename(columns={'discrete:on_the_phone:missing': \"on_the_phone:missing\"}, inplace=True)\n",
    "data.rename(columns={'discrete:ringer_mode:is_normal': \"ringer_mode:is_normal\"}, inplace=True)\n",
    "data.rename(columns={'discrete:ringer_mode:is_silent_no_vibrate': \"ringer_mode:is_silent_no_vibrate\"}, inplace=True)\n",
    "data.rename(columns={'discrete:ringer_mode:is_silent_with_vibrate': \"ringer_mode:is_silent_with_vibrate\"}, inplace=True)\n",
    "data.rename(columns={'discrete:ringer_mode:missing': \"ringer_mode:missing\"}, inplace=True)\n",
    "data.rename(columns={'discrete:wifi_status:is_not_reachable': \"wifi_status:is_not_reachable\"}, inplace=True)\n",
    "data.rename(columns={'discrete:wifi_status:is_reachable_via_wifi': \"wifi_status:is_reachable_via_wifi\"}, inplace=True)\n",
    "data.rename(columns={'discrete:wifi_status:missing': \"wifi_status:missing\"}, inplace=True)\n"
   ]
  },
  {
   "cell_type": "markdown",
   "metadata": {},
   "source": [
    "**Regarding the ( Time of day ), when i looked closely into the data, i found that the time od day consists of 2 sections, one of them is between 12 and 6 ( am and pm ) and the other one is between 3 and 9 (am and pm). meaning that the data every 30 min (half an hour) is different based on the section of it (whether it is in range of 3 and 9 or 12 and 6 , am and pm respectively) .**\n",
    "\n",
    "**Section 1:** \n",
    "\n",
    " 0 (12 am)  -->  6  am  \n",
    "        \n",
    " 6  am      -->  12 pm \n",
    "\n",
    " 12 pm      -->  18 pm \n",
    " \n",
    " 18 pm      -->  24 pm\n",
    "\n",
    "\n",
    "**Section 2 :** \n",
    "\n",
    " 3  am  -->  9 am    \n",
    "\n",
    " 9  am  --> 15 pm \n",
    " \n",
    " 15 pm  --> 21 pm \n",
    " \n",
    " 21 pm  -->  3 am\n",
    "\n",
    " \n",
    " **FYI:** 12:00 can only be noon (midday). Midnight is called 24:00 and is used to mean the end of the day and 00:00 is used to mean the beginning of the day.\n",
    "\n",
    " However, i tried to combine these data into single columns in order to reduce the number of columns without loosing any important informations, but unfortunately, in every half an hour (30 min) (aka their columns name) has different outcome from one another, so instead of having the names of : \"discrete:time_of_day:between0and6 \" , \"discrete:time_of_day:between3and9\", etc . i decided to rename these columns based on whether this time will be in the morning, afternoon, or (evening/night) to its corresponding section (12-6 or 3-9) to make it more elegant :) . \n",
    "\n",
    "In order to differentiate between these 2 sections, i'll call the attributes of section 1 as a headname (timing 1) which refers to the time (range) between 12 and 6 . And section 2 will call it as (timing 2) which refers to the time between 3 and 9 . \n",
    "Meaning that: \n",
    "\n",
    "**Section 1:** \n",
    "\n",
    " 0 (12 am)  -->  6  am   (Timing1:LateNight )     \n",
    "\n",
    " 6  am      -->  12 pm   (Timing1:Morning) \n",
    "\n",
    " 12 pm      -->  18 pm   (Timing1:Afternoon) \n",
    "\n",
    " 18 pm      -->  24      (Timing1:Evening/Night) \n",
    "\n",
    "\n",
    "**Section 2 :** \n",
    "\n",
    " 3  am  -->  9 am        (Timing2:EarlyMorning)   \n",
    "\n",
    " 9  am  --> 15 pm        (Timing2:Morning/afternoon)\n",
    "\n",
    " 15 pm  --> 21 pm        (Timing2:Evening/Night)\n",
    " \n",
    " 21 pm  -->  3 am        (Timing2:LateEvening/Night)\n",
    "\n"
   ]
  },
  {
   "cell_type": "code",
   "execution_count": 33,
   "metadata": {},
   "outputs": [],
   "source": [
    "# Section 1\n",
    "data.rename(columns={'discrete:time_of_day:between0and6': \"Timing1:LateNight\"}, inplace=True)\n",
    "data.rename(columns={'discrete:time_of_day:between6and12': \"Timing1:Morning\"}, inplace=True)\n",
    "data.rename(columns={'discrete:time_of_day:between12and18': \"Timing1:Afternoon\"}, inplace=True)\n",
    "data.rename(columns={'discrete:time_of_day:between18and24': \"Timing1:Evening/Night\"}, inplace=True)"
   ]
  },
  {
   "cell_type": "code",
   "execution_count": 34,
   "metadata": {},
   "outputs": [],
   "source": [
    "# Section 2\n",
    "data.rename(columns={'discrete:time_of_day:between3and9': \"Timing2:EarlyMorning\"}, inplace=True)\n",
    "data.rename(columns={'discrete:time_of_day:between9and15': \"Timing2:Morning/afternoon\"}, inplace=True)\n",
    "data.rename(columns={'discrete:time_of_day:between15and21': \"Timing2:Evening/Night\"}, inplace=True)\n",
    "data.rename(columns={'discrete:time_of_day:between21and3': \"Timing2:LateEvening/Night\"}, inplace=True)"
   ]
  },
  {
   "cell_type": "code",
   "execution_count": 37,
   "metadata": {},
   "outputs": [
    {
     "data": {
      "text/plain": [
       "'NoNoNoNoNo'"
      ]
     },
     "execution_count": 37,
     "metadata": {},
     "output_type": "execute_result"
    }
   ],
   "source": [
    "#testing\n",
    "data['Timing2:LateEvening/Night'].head().sum()"
   ]
  },
  {
   "cell_type": "code",
   "execution_count": 23,
   "metadata": {},
   "outputs": [
    {
     "data": {
      "text/plain": [
       "2196"
      ]
     },
     "execution_count": 23,
     "metadata": {},
     "output_type": "execute_result"
    }
   ],
   "source": [
    "data['discrete:time_of_day:between0and6'].value_counts()['No']"
   ]
  },
  {
   "cell_type": "code",
   "execution_count": 24,
   "metadata": {},
   "outputs": [
    {
     "data": {
      "text/plain": [
       "489"
      ]
     },
     "execution_count": 24,
     "metadata": {},
     "output_type": "execute_result"
    }
   ],
   "source": [
    "data['discrete:time_of_day:between0and6'].value_counts()['Yes']"
   ]
  },
  {
   "cell_type": "code",
   "execution_count": 31,
   "metadata": {},
   "outputs": [
    {
     "data": {
      "text/plain": [
       "1857"
      ]
     },
     "execution_count": 31,
     "metadata": {},
     "output_type": "execute_result"
    }
   ],
   "source": [
    "data['discrete:time_of_day:between18and24'].value_counts()['No']\n"
   ]
  },
  {
   "cell_type": "code",
   "execution_count": 70,
   "metadata": {},
   "outputs": [
    {
     "data": {
      "text/plain": [
       "array([0., 1.])"
      ]
     },
     "execution_count": 70,
     "metadata": {},
     "output_type": "execute_result"
    }
   ],
   "source": [
    "data['discrete:time_of_day:between21and3'].unique()"
   ]
  },
  {
   "cell_type": "code",
   "execution_count": 69,
   "metadata": {},
   "outputs": [
    {
     "data": {
      "text/plain": [
       "array([0., 1.])"
      ]
     },
     "execution_count": 69,
     "metadata": {},
     "output_type": "execute_result"
    }
   ],
   "source": [
    "data['discrete:time_of_day:between18and24'].unique()"
   ]
  },
  {
   "cell_type": "code",
   "execution_count": 68,
   "metadata": {},
   "outputs": [
    {
     "data": {
      "text/plain": [
       "array([1., 0.])"
      ]
     },
     "execution_count": 68,
     "metadata": {},
     "output_type": "execute_result"
    }
   ],
   "source": [
    "data['discrete:time_of_day:between12and18'].unique()"
   ]
  },
  {
   "cell_type": "code",
   "execution_count": 67,
   "metadata": {},
   "outputs": [
    {
     "data": {
      "text/plain": [
       "array([0., 1.])"
      ]
     },
     "execution_count": 67,
     "metadata": {},
     "output_type": "execute_result"
    }
   ],
   "source": [
    "data['discrete:time_of_day:between9and15'].unique()"
   ]
  },
  {
   "cell_type": "code",
   "execution_count": 66,
   "metadata": {},
   "outputs": [
    {
     "data": {
      "text/plain": [
       "array([0., 1.])"
      ]
     },
     "execution_count": 66,
     "metadata": {},
     "output_type": "execute_result"
    }
   ],
   "source": [
    "data['discrete:time_of_day:between6and12'].unique()"
   ]
  },
  {
   "cell_type": "code",
   "execution_count": 65,
   "metadata": {},
   "outputs": [
    {
     "data": {
      "text/plain": [
       "array([0., 1.])"
      ]
     },
     "execution_count": 65,
     "metadata": {},
     "output_type": "execute_result"
    }
   ],
   "source": [
    "data['discrete:time_of_day:between3and9'].unique()"
   ]
  },
  {
   "cell_type": "code",
   "execution_count": 64,
   "metadata": {},
   "outputs": [
    {
     "data": {
      "text/plain": [
       "array([0., 1.])"
      ]
     },
     "execution_count": 64,
     "metadata": {},
     "output_type": "execute_result"
    }
   ],
   "source": [
    "data['discrete:time_of_day:between0and6'].unique()"
   ]
  },
  {
   "cell_type": "code",
   "execution_count": 63,
   "metadata": {},
   "outputs": [
    {
     "data": {
      "text/plain": [
       "array([0., 1.])"
      ]
     },
     "execution_count": 63,
     "metadata": {},
     "output_type": "execute_result"
    }
   ],
   "source": [
    "data['discrete:wifi_status:missing'].unique()"
   ]
  },
  {
   "cell_type": "code",
   "execution_count": 62,
   "metadata": {},
   "outputs": [
    {
     "data": {
      "text/plain": [
       "array([0.])"
      ]
     },
     "execution_count": 62,
     "metadata": {},
     "output_type": "execute_result"
    }
   ],
   "source": [
    "data['discrete:wifi_status:is_reachable_via_wwan'].unique()"
   ]
  },
  {
   "cell_type": "code",
   "execution_count": 61,
   "metadata": {},
   "outputs": [
    {
     "data": {
      "text/plain": [
       "array([1., 0.])"
      ]
     },
     "execution_count": 61,
     "metadata": {},
     "output_type": "execute_result"
    }
   ],
   "source": [
    "data['discrete:wifi_status:is_reachable_via_wifi'].unique()"
   ]
  },
  {
   "cell_type": "code",
   "execution_count": 60,
   "metadata": {},
   "outputs": [
    {
     "data": {
      "text/plain": [
       "array([0., 1.])"
      ]
     },
     "execution_count": 60,
     "metadata": {},
     "output_type": "execute_result"
    }
   ],
   "source": [
    "data['discrete:wifi_status:is_not_reachable'].unique()"
   ]
  },
  {
   "cell_type": "code",
   "execution_count": 59,
   "metadata": {},
   "outputs": [
    {
     "data": {
      "text/plain": [
       "array([0., 1.])"
      ]
     },
     "execution_count": 59,
     "metadata": {},
     "output_type": "execute_result"
    }
   ],
   "source": [
    "data['discrete:ringer_mode:missing'].unique()"
   ]
  },
  {
   "cell_type": "code",
   "execution_count": 58,
   "metadata": {},
   "outputs": [
    {
     "data": {
      "text/plain": [
       "array([0., 1.])"
      ]
     },
     "execution_count": 58,
     "metadata": {},
     "output_type": "execute_result"
    }
   ],
   "source": [
    "data['discrete:ringer_mode:is_silent_with_vibrate'].unique()"
   ]
  },
  {
   "cell_type": "code",
   "execution_count": 57,
   "metadata": {},
   "outputs": [
    {
     "data": {
      "text/plain": [
       "array([1., 0.])"
      ]
     },
     "execution_count": 57,
     "metadata": {},
     "output_type": "execute_result"
    }
   ],
   "source": [
    "data['discrete:ringer_mode:is_silent_no_vibrate'].unique()"
   ]
  },
  {
   "cell_type": "code",
   "execution_count": 55,
   "metadata": {},
   "outputs": [
    {
     "data": {
      "text/plain": [
       "array([0., 1.])"
      ]
     },
     "execution_count": 55,
     "metadata": {},
     "output_type": "execute_result"
    }
   ],
   "source": [
    "data['discrete:ringer_mode:is_normal'].unique()"
   ]
  },
  {
   "cell_type": "code",
   "execution_count": 54,
   "metadata": {},
   "outputs": [
    {
     "data": {
      "text/plain": [
       "array([0., 1.])"
      ]
     },
     "execution_count": 54,
     "metadata": {},
     "output_type": "execute_result"
    }
   ],
   "source": [
    "data['discrete:on_the_phone:missing'].unique()"
   ]
  },
  {
   "cell_type": "code",
   "execution_count": 53,
   "metadata": {},
   "outputs": [
    {
     "data": {
      "text/plain": [
       "array([0., 1.])"
      ]
     },
     "execution_count": 53,
     "metadata": {},
     "output_type": "execute_result"
    }
   ],
   "source": [
    "data['discrete:on_the_phone:is_True'].unique()"
   ]
  },
  {
   "cell_type": "code",
   "execution_count": 48,
   "metadata": {},
   "outputs": [
    {
     "data": {
      "text/plain": [
       "array([1., 0.])"
      ]
     },
     "execution_count": 48,
     "metadata": {},
     "output_type": "execute_result"
    }
   ],
   "source": [
    "data['discrete:on_the_phone:is_False'].unique()"
   ]
  },
  {
   "cell_type": "code",
   "execution_count": 47,
   "metadata": {},
   "outputs": [
    {
     "data": {
      "text/plain": [
       "array([0., 1.])"
      ]
     },
     "execution_count": 47,
     "metadata": {},
     "output_type": "execute_result"
    }
   ],
   "source": [
    "data['discrete:battery_state:missing'].unique()"
   ]
  },
  {
   "cell_type": "code",
   "execution_count": 46,
   "metadata": {},
   "outputs": [
    {
     "data": {
      "text/plain": [
       "array([0., 1.])"
      ]
     },
     "execution_count": 46,
     "metadata": {},
     "output_type": "execute_result"
    }
   ],
   "source": [
    "data['discrete:battery_state:is_full'].unique()"
   ]
  },
  {
   "cell_type": "code",
   "execution_count": 32,
   "metadata": {},
   "outputs": [
    {
     "data": {
      "text/plain": [
       "array([0.])"
      ]
     },
     "execution_count": 32,
     "metadata": {},
     "output_type": "execute_result"
    }
   ],
   "source": [
    "data['discrete:app_state:is_inactive'].unique()"
   ]
  },
  {
   "cell_type": "code",
   "execution_count": 33,
   "metadata": {},
   "outputs": [
    {
     "data": {
      "text/plain": [
       "array([1.])"
      ]
     },
     "execution_count": 33,
     "metadata": {},
     "output_type": "execute_result"
    }
   ],
   "source": [
    "data['discrete:app_state:missing'].unique()"
   ]
  },
  {
   "cell_type": "code",
   "execution_count": 34,
   "metadata": {},
   "outputs": [
    {
     "data": {
      "text/plain": [
       "array([0.])"
      ]
     },
     "execution_count": 34,
     "metadata": {},
     "output_type": "execute_result"
    }
   ],
   "source": [
    "data['discrete:app_state:is_background'].unique()"
   ]
  },
  {
   "cell_type": "code",
   "execution_count": 35,
   "metadata": {},
   "outputs": [
    {
     "data": {
      "text/plain": [
       "array([0., 1.])"
      ]
     },
     "execution_count": 35,
     "metadata": {},
     "output_type": "execute_result"
    }
   ],
   "source": [
    "data['discrete:battery_plugged:is_ac'].unique()"
   ]
  },
  {
   "cell_type": "code",
   "execution_count": 36,
   "metadata": {},
   "outputs": [
    {
     "data": {
      "text/plain": [
       "array([1., 0.])"
      ]
     },
     "execution_count": 36,
     "metadata": {},
     "output_type": "execute_result"
    }
   ],
   "source": [
    "data['discrete:battery_plugged:is_usb'].unique()"
   ]
  },
  {
   "cell_type": "code",
   "execution_count": 37,
   "metadata": {},
   "outputs": [
    {
     "data": {
      "text/plain": [
       "array([0.])"
      ]
     },
     "execution_count": 37,
     "metadata": {},
     "output_type": "execute_result"
    }
   ],
   "source": [
    "data['discrete:battery_plugged:is_wireless'].unique()"
   ]
  },
  {
   "cell_type": "code",
   "execution_count": 38,
   "metadata": {},
   "outputs": [
    {
     "data": {
      "text/plain": [
       "array([0., 1.])"
      ]
     },
     "execution_count": 38,
     "metadata": {},
     "output_type": "execute_result"
    }
   ],
   "source": [
    "data['discrete:battery_plugged:missing'].unique()"
   ]
  },
  {
   "cell_type": "code",
   "execution_count": 43,
   "metadata": {},
   "outputs": [
    {
     "data": {
      "text/plain": [
       "2685"
      ]
     },
     "execution_count": 43,
     "metadata": {},
     "output_type": "execute_result"
    }
   ],
   "source": [
    "data['discrete:battery_state:is_unknown'].count()"
   ]
  },
  {
   "cell_type": "code",
   "execution_count": 44,
   "metadata": {},
   "outputs": [
    {
     "data": {
      "text/plain": [
       "2685"
      ]
     },
     "execution_count": 44,
     "metadata": {},
     "output_type": "execute_result"
    }
   ],
   "source": [
    "data['discrete:battery_state:is_unplugged'].count()"
   ]
  },
  {
   "cell_type": "code",
   "execution_count": 41,
   "metadata": {},
   "outputs": [
    {
     "data": {
      "text/plain": [
       "array([0.])"
      ]
     },
     "execution_count": 41,
     "metadata": {},
     "output_type": "execute_result"
    }
   ],
   "source": [
    "data['discrete:battery_state:is_not_charging'].unique()"
   ]
  },
  {
   "cell_type": "code",
   "execution_count": 42,
   "metadata": {},
   "outputs": [
    {
     "data": {
      "text/plain": [
       "array([0., 1.])"
      ]
     },
     "execution_count": 42,
     "metadata": {},
     "output_type": "execute_result"
    }
   ],
   "source": [
    "data['discrete:battery_state:is_discharging'].unique()"
   ]
  },
  {
   "cell_type": "code",
   "execution_count": 45,
   "metadata": {},
   "outputs": [
    {
     "data": {
      "text/plain": [
       "array([1., 0.])"
      ]
     },
     "execution_count": 45,
     "metadata": {},
     "output_type": "execute_result"
    }
   ],
   "source": [
    "data['discrete:battery_state:is_charging'].unique()"
   ]
  },
  {
   "cell_type": "markdown",
   "metadata": {},
   "source": [
    "**Regarding the raw phone accelerometer measurements AKA (raw_acc), which consists of many attributes such as:** \n",
    "\n",
    "**1- Magnitude stats** which consists of --> (mean, standard deviation, moment 3, moment 4, percentiles (25,50,75)--> could help us to handle the outliers, value_entropy, time_entropy )\n",
    "\n",
    "**2- Magnitude spectrum** which consists of --> (log_energy_band0, log_energy_band1, log_energy_band2, log_energy_band3, log_energy_band4, spectral_entropy )\n",
    "\n",
    "**3- Magnitude autocorrelation** which consists of --> ( 'period' and 'normalized_ac' )\n",
    "\n",
    "**4- 3d** which consists of --> (mean_x, mean_y, mean_z, standard deviation_x, standard deviation_y, standard deviation_z, ro_xy, ro_xz, ro_yz )\n",
    "\n",
    "**and the same concept goes for the rest of the sensors**"
   ]
  },
  {
   "cell_type": "markdown",
   "metadata": {},
   "source": [
    "**droping the columns that have a nan values (no values)**\n",
    "- columns : \" location:min_speed , location:max_speed,  \" are having 71 % nan values so we dropped it ."
   ]
  },
  {
   "cell_type": "code",
   "execution_count": 38,
   "metadata": {},
   "outputs": [],
   "source": [
    "data.drop(columns=['label:BICYCLING', 'label:LAB_WORK', 'label:IN_CLASS','label:CLEANING', 'label:AT_A_PARTY',\n",
    " 'label:AT_A_BAR', 'label:LOC_beach','label:AT_THE_GYM','label:ELEVATOR','label:PHONE_IN_BAG', 'location:min_altitude', \n",
    "'location:min_speed', 'location:max_speed', 'location:best_vertical_accuracy', 'lf_measurements:proximity',\n",
    " 'lf_measurements:relative_humidity' ,'lf_measurements:screen_brightness' ,'lf_measurements:temperature_ambient'  ]\n",
    " , axis=1, inplace=True)\n"
   ]
  },
  {
   "cell_type": "code",
   "execution_count": 39,
   "metadata": {},
   "outputs": [
    {
     "data": {
      "text/html": [
       "<div>\n",
       "<style scoped>\n",
       "    .dataframe tbody tr th:only-of-type {\n",
       "        vertical-align: middle;\n",
       "    }\n",
       "\n",
       "    .dataframe tbody tr th {\n",
       "        vertical-align: top;\n",
       "    }\n",
       "\n",
       "    .dataframe thead th {\n",
       "        text-align: right;\n",
       "    }\n",
       "</style>\n",
       "<table border=\"1\" class=\"dataframe\">\n",
       "  <thead>\n",
       "    <tr style=\"text-align: right;\">\n",
       "      <th></th>\n",
       "      <th>timestamp</th>\n",
       "      <th>raw_acc:magnitude_stats:mean</th>\n",
       "      <th>raw_acc:magnitude_stats:std</th>\n",
       "      <th>raw_acc:magnitude_stats:moment3</th>\n",
       "      <th>raw_acc:magnitude_stats:moment4</th>\n",
       "      <th>raw_acc:magnitude_stats:percentile25</th>\n",
       "      <th>raw_acc:magnitude_stats:percentile50</th>\n",
       "      <th>raw_acc:magnitude_stats:percentile75</th>\n",
       "      <th>raw_acc:magnitude_stats:value_entropy</th>\n",
       "      <th>raw_acc:magnitude_stats:time_entropy</th>\n",
       "      <th>...</th>\n",
       "      <th>label:DRESSING</th>\n",
       "      <th>label:STAIRS_-_GOING_UP</th>\n",
       "      <th>label:STAIRS_-_GOING_DOWN</th>\n",
       "      <th>label:OR_standing</th>\n",
       "      <th>label:AT_SCHOOL</th>\n",
       "      <th>label:PHONE_IN_HAND</th>\n",
       "      <th>label:PHONE_ON_TABLE</th>\n",
       "      <th>label:WITH_CO-WORKERS</th>\n",
       "      <th>label:WITH_FRIENDS</th>\n",
       "      <th>label_source</th>\n",
       "    </tr>\n",
       "  </thead>\n",
       "  <tbody>\n",
       "    <tr>\n",
       "      <th>0</th>\n",
       "      <td>1464129912</td>\n",
       "      <td>1.011438</td>\n",
       "      <td>0.012573</td>\n",
       "      <td>0.023013</td>\n",
       "      <td>0.041240</td>\n",
       "      <td>1.006184</td>\n",
       "      <td>1.010868</td>\n",
       "      <td>1.016028</td>\n",
       "      <td>0.935099</td>\n",
       "      <td>6.684536</td>\n",
       "      <td>...</td>\n",
       "      <td>not relevant</td>\n",
       "      <td>not relevant</td>\n",
       "      <td>not relevant</td>\n",
       "      <td>not relevant</td>\n",
       "      <td>not relevant</td>\n",
       "      <td>NaN</td>\n",
       "      <td>NaN</td>\n",
       "      <td>relevant</td>\n",
       "      <td>not relevant</td>\n",
       "      <td>2</td>\n",
       "    </tr>\n",
       "    <tr>\n",
       "      <th>1</th>\n",
       "      <td>1464129950</td>\n",
       "      <td>1.011233</td>\n",
       "      <td>0.009356</td>\n",
       "      <td>-0.005622</td>\n",
       "      <td>0.016687</td>\n",
       "      <td>1.006338</td>\n",
       "      <td>1.010926</td>\n",
       "      <td>1.016657</td>\n",
       "      <td>1.732968</td>\n",
       "      <td>6.684569</td>\n",
       "      <td>...</td>\n",
       "      <td>not relevant</td>\n",
       "      <td>not relevant</td>\n",
       "      <td>not relevant</td>\n",
       "      <td>not relevant</td>\n",
       "      <td>not relevant</td>\n",
       "      <td>NaN</td>\n",
       "      <td>NaN</td>\n",
       "      <td>relevant</td>\n",
       "      <td>not relevant</td>\n",
       "      <td>2</td>\n",
       "    </tr>\n",
       "    <tr>\n",
       "      <th>2</th>\n",
       "      <td>1464130031</td>\n",
       "      <td>1.013422</td>\n",
       "      <td>0.018068</td>\n",
       "      <td>-0.008593</td>\n",
       "      <td>0.039286</td>\n",
       "      <td>1.004077</td>\n",
       "      <td>1.012983</td>\n",
       "      <td>1.021926</td>\n",
       "      <td>1.464639</td>\n",
       "      <td>6.684453</td>\n",
       "      <td>...</td>\n",
       "      <td>not relevant</td>\n",
       "      <td>not relevant</td>\n",
       "      <td>not relevant</td>\n",
       "      <td>not relevant</td>\n",
       "      <td>not relevant</td>\n",
       "      <td>NaN</td>\n",
       "      <td>NaN</td>\n",
       "      <td>relevant</td>\n",
       "      <td>not relevant</td>\n",
       "      <td>2</td>\n",
       "    </tr>\n",
       "    <tr>\n",
       "      <th>3</th>\n",
       "      <td>1464130109</td>\n",
       "      <td>1.014891</td>\n",
       "      <td>0.016400</td>\n",
       "      <td>0.021383</td>\n",
       "      <td>0.038825</td>\n",
       "      <td>1.005934</td>\n",
       "      <td>1.014670</td>\n",
       "      <td>1.023000</td>\n",
       "      <td>1.440043</td>\n",
       "      <td>6.684483</td>\n",
       "      <td>...</td>\n",
       "      <td>not relevant</td>\n",
       "      <td>not relevant</td>\n",
       "      <td>not relevant</td>\n",
       "      <td>not relevant</td>\n",
       "      <td>not relevant</td>\n",
       "      <td>NaN</td>\n",
       "      <td>NaN</td>\n",
       "      <td>relevant</td>\n",
       "      <td>not relevant</td>\n",
       "      <td>2</td>\n",
       "    </tr>\n",
       "    <tr>\n",
       "      <th>4</th>\n",
       "      <td>1464130130</td>\n",
       "      <td>1.017487</td>\n",
       "      <td>0.022632</td>\n",
       "      <td>-0.012891</td>\n",
       "      <td>0.037226</td>\n",
       "      <td>1.006040</td>\n",
       "      <td>1.017587</td>\n",
       "      <td>1.028168</td>\n",
       "      <td>1.937362</td>\n",
       "      <td>6.684364</td>\n",
       "      <td>...</td>\n",
       "      <td>not relevant</td>\n",
       "      <td>not relevant</td>\n",
       "      <td>not relevant</td>\n",
       "      <td>not relevant</td>\n",
       "      <td>not relevant</td>\n",
       "      <td>NaN</td>\n",
       "      <td>NaN</td>\n",
       "      <td>relevant</td>\n",
       "      <td>not relevant</td>\n",
       "      <td>2</td>\n",
       "    </tr>\n",
       "  </tbody>\n",
       "</table>\n",
       "<p>5 rows × 256 columns</p>\n",
       "</div>"
      ],
      "text/plain": [
       "    timestamp  raw_acc:magnitude_stats:mean  raw_acc:magnitude_stats:std  \\\n",
       "0  1464129912                      1.011438                     0.012573   \n",
       "1  1464129950                      1.011233                     0.009356   \n",
       "2  1464130031                      1.013422                     0.018068   \n",
       "3  1464130109                      1.014891                     0.016400   \n",
       "4  1464130130                      1.017487                     0.022632   \n",
       "\n",
       "   raw_acc:magnitude_stats:moment3  raw_acc:magnitude_stats:moment4  \\\n",
       "0                         0.023013                         0.041240   \n",
       "1                        -0.005622                         0.016687   \n",
       "2                        -0.008593                         0.039286   \n",
       "3                         0.021383                         0.038825   \n",
       "4                        -0.012891                         0.037226   \n",
       "\n",
       "   raw_acc:magnitude_stats:percentile25  raw_acc:magnitude_stats:percentile50  \\\n",
       "0                              1.006184                              1.010868   \n",
       "1                              1.006338                              1.010926   \n",
       "2                              1.004077                              1.012983   \n",
       "3                              1.005934                              1.014670   \n",
       "4                              1.006040                              1.017587   \n",
       "\n",
       "   raw_acc:magnitude_stats:percentile75  \\\n",
       "0                              1.016028   \n",
       "1                              1.016657   \n",
       "2                              1.021926   \n",
       "3                              1.023000   \n",
       "4                              1.028168   \n",
       "\n",
       "   raw_acc:magnitude_stats:value_entropy  \\\n",
       "0                               0.935099   \n",
       "1                               1.732968   \n",
       "2                               1.464639   \n",
       "3                               1.440043   \n",
       "4                               1.937362   \n",
       "\n",
       "   raw_acc:magnitude_stats:time_entropy  ...  label:DRESSING  \\\n",
       "0                              6.684536  ...    not relevant   \n",
       "1                              6.684569  ...    not relevant   \n",
       "2                              6.684453  ...    not relevant   \n",
       "3                              6.684483  ...    not relevant   \n",
       "4                              6.684364  ...    not relevant   \n",
       "\n",
       "   label:STAIRS_-_GOING_UP  label:STAIRS_-_GOING_DOWN  label:OR_standing  \\\n",
       "0             not relevant               not relevant       not relevant   \n",
       "1             not relevant               not relevant       not relevant   \n",
       "2             not relevant               not relevant       not relevant   \n",
       "3             not relevant               not relevant       not relevant   \n",
       "4             not relevant               not relevant       not relevant   \n",
       "\n",
       "   label:AT_SCHOOL  label:PHONE_IN_HAND  label:PHONE_ON_TABLE  \\\n",
       "0     not relevant                  NaN                   NaN   \n",
       "1     not relevant                  NaN                   NaN   \n",
       "2     not relevant                  NaN                   NaN   \n",
       "3     not relevant                  NaN                   NaN   \n",
       "4     not relevant                  NaN                   NaN   \n",
       "\n",
       "   label:WITH_CO-WORKERS  label:WITH_FRIENDS  label_source  \n",
       "0               relevant        not relevant             2  \n",
       "1               relevant        not relevant             2  \n",
       "2               relevant        not relevant             2  \n",
       "3               relevant        not relevant             2  \n",
       "4               relevant        not relevant             2  \n",
       "\n",
       "[5 rows x 256 columns]"
      ]
     },
     "execution_count": 39,
     "metadata": {},
     "output_type": "execute_result"
    }
   ],
   "source": [
    "data.head()"
   ]
  },
  {
   "cell_type": "code",
   "execution_count": 40,
   "metadata": {},
   "outputs": [
    {
     "data": {
      "text/plain": [
       "(2685, 256)"
      ]
     },
     "execution_count": 40,
     "metadata": {},
     "output_type": "execute_result"
    }
   ],
   "source": [
    "# as we can see here that the number of columns decreased from 278 to 256\n",
    "data.shape"
   ]
  },
  {
   "cell_type": "markdown",
   "metadata": {},
   "source": [
    "**analyzing the distribution of classes and the balance of the dataset**"
   ]
  },
  {
   "cell_type": "code",
   "execution_count": 41,
   "metadata": {},
   "outputs": [
    {
     "data": {
      "text/plain": [
       "<AxesSubplot:xlabel='raw_acc:magnitude_stats:mean', ylabel='count'>"
      ]
     },
     "execution_count": 41,
     "metadata": {},
     "output_type": "execute_result"
    },
    {
     "data": {
      "image/png": "[encoded data removed]",
      "text/plain": [
       "<Figure size 640x480 with 1 Axes>"
      ]
     },
     "metadata": {},
     "output_type": "display_data"
    }
   ],
   "source": [
    "sns.countplot(x='raw_acc:magnitude_stats:mean', data=data)"
   ]
  },
  {
   "cell_type": "code",
   "execution_count": 42,
   "metadata": {},
   "outputs": [
    {
     "name": "stdout",
     "output_type": "stream",
     "text": [
      "55807\n"
     ]
    }
   ],
   "source": [
    "print(data.isnull().sum().sum()) # check for missing values"
   ]
  },
  {
   "cell_type": "code",
   "execution_count": 43,
   "metadata": {},
   "outputs": [
    {
     "data": {
      "text/plain": [
       "<AxesSubplot:>"
      ]
     },
     "execution_count": 43,
     "metadata": {},
     "output_type": "execute_result"
    },
    {
     "data": {
      "image/png": "[encoded data removed]",
      "text/plain": [
       "<Figure size 640x480 with 1 Axes>"
      ]
     },
     "metadata": {},
     "output_type": "display_data"
    }
   ],
   "source": [
    "sns.boxplot(data=data) # check for outliers"
   ]
  },
  {
   "cell_type": "markdown",
   "metadata": {},
   "source": [
    "**Exploring the correlation between features to understand the underlying patterns in the data:**"
   ]
  },
  {
   "cell_type": "code",
   "execution_count": 44,
   "metadata": {},
   "outputs": [
    {
     "data": {
      "text/plain": [
       "<AxesSubplot:>"
      ]
     },
     "execution_count": 44,
     "metadata": {},
     "output_type": "execute_result"
    },
    {
     "data": {
      "image/png": "[encoded data removed]",
      "text/plain": [
       "<Figure size 640x480 with 2 Axes>"
      ]
     },
     "metadata": {},
     "output_type": "display_data"
    }
   ],
   "source": [
    "sns.heatmap(data.corr())"
   ]
  },
  {
   "cell_type": "code",
   "execution_count": 45,
   "metadata": {},
   "outputs": [
    {
     "name": "stderr",
     "output_type": "stream",
     "text": [
      "/var/folders/6j/6zf5dmk10fg07jx1322gbt3r0000gn/T/ipykernel_1038/2010366358.py:2: FutureWarning: Dropping of nuisance columns in DataFrame reductions (with 'numeric_only=None') is deprecated; in a future version this will raise TypeError.  Select only valid columns before calling the reduction.\n",
      "  data.fillna(data.mean(), inplace=True)\n"
     ]
    }
   ],
   "source": [
    "# Handle missing values\n",
    "data.fillna(data.mean(), inplace=True)"
   ]
  },
  {
   "cell_type": "code",
   "execution_count": 50,
   "metadata": {},
   "outputs": [
    {
     "name": "stdout",
     "output_type": "stream",
     "text": [
      "<class 'pandas.core.frame.DataFrame'>\n",
      "Int64Index: 105 entries, 41 to 2675\n",
      "Columns: 256 entries, timestamp to label_source\n",
      "dtypes: float64(184), int64(2), object(70)\n",
      "memory usage: 210.8+ KB\n"
     ]
    }
   ],
   "source": [
    "df_records_dropped = data.dropna(axis=0, how='all')\n",
    "df_records_dropped.info()"
   ]
  },
  {
   "cell_type": "code",
   "execution_count": 51,
   "metadata": {},
   "outputs": [
    {
     "name": "stderr",
     "output_type": "stream",
     "text": [
      "/var/folders/6j/6zf5dmk10fg07jx1322gbt3r0000gn/T/ipykernel_1038/1796913811.py:5: FutureWarning: Automatic reindexing on DataFrame vs Series comparisons is deprecated and will raise ValueError in a future version. Do `left, right = left.align(right, axis=1, copy=False)` before e.g. `left == right`\n",
      "  data = data[~((data < (Q1 - 1.5 * IQR)) | (data > (Q3 + 1.5 * IQR))).any(axis=1)]\n"
     ]
    }
   ],
   "source": [
    "# Handle outliers\n",
    "Q1 = data.quantile(0.25)\n",
    "Q3 = data.quantile(0.75)\n",
    "IQR = Q3 - Q1\n",
    "data = data[~((data < (Q1 - 1.5 * IQR)) | (data > (Q3 + 1.5 * IQR))).any(axis=1)]"
   ]
  },
  {
   "cell_type": "code",
   "execution_count": 52,
   "metadata": {},
   "outputs": [
    {
     "data": {
      "text/plain": [
       "1792"
      ]
     },
     "execution_count": 52,
     "metadata": {},
     "output_type": "execute_result"
    }
   ],
   "source": [
    "data.isnull().count().sum()"
   ]
  },
  {
   "cell_type": "code",
   "execution_count": 53,
   "metadata": {},
   "outputs": [
    {
     "data": {
      "text/html": [
       "<div>\n",
       "<style scoped>\n",
       "    .dataframe tbody tr th:only-of-type {\n",
       "        vertical-align: middle;\n",
       "    }\n",
       "\n",
       "    .dataframe tbody tr th {\n",
       "        vertical-align: top;\n",
       "    }\n",
       "\n",
       "    .dataframe thead th {\n",
       "        text-align: right;\n",
       "    }\n",
       "</style>\n",
       "<table border=\"1\" class=\"dataframe\">\n",
       "  <thead>\n",
       "    <tr style=\"text-align: right;\">\n",
       "      <th></th>\n",
       "      <th>timestamp</th>\n",
       "      <th>raw_acc:magnitude_stats:mean</th>\n",
       "      <th>raw_acc:magnitude_stats:std</th>\n",
       "      <th>raw_acc:magnitude_stats:moment3</th>\n",
       "      <th>raw_acc:magnitude_stats:moment4</th>\n",
       "      <th>raw_acc:magnitude_stats:percentile25</th>\n",
       "      <th>raw_acc:magnitude_stats:percentile50</th>\n",
       "      <th>raw_acc:magnitude_stats:percentile75</th>\n",
       "      <th>raw_acc:magnitude_stats:value_entropy</th>\n",
       "      <th>raw_acc:magnitude_stats:time_entropy</th>\n",
       "      <th>...</th>\n",
       "      <th>label:DRESSING</th>\n",
       "      <th>label:STAIRS_-_GOING_UP</th>\n",
       "      <th>label:STAIRS_-_GOING_DOWN</th>\n",
       "      <th>label:OR_standing</th>\n",
       "      <th>label:AT_SCHOOL</th>\n",
       "      <th>label:PHONE_IN_HAND</th>\n",
       "      <th>label:PHONE_ON_TABLE</th>\n",
       "      <th>label:WITH_CO-WORKERS</th>\n",
       "      <th>label:WITH_FRIENDS</th>\n",
       "      <th>label_source</th>\n",
       "    </tr>\n",
       "  </thead>\n",
       "  <tbody>\n",
       "    <tr>\n",
       "      <th>1517</th>\n",
       "      <td>1464526162</td>\n",
       "      <td>1.008893</td>\n",
       "      <td>0.001755</td>\n",
       "      <td>-0.001109</td>\n",
       "      <td>0.002432</td>\n",
       "      <td>1.007836</td>\n",
       "      <td>1.008875</td>\n",
       "      <td>1.010029</td>\n",
       "      <td>2.388380</td>\n",
       "      <td>6.68461</td>\n",
       "      <td>...</td>\n",
       "      <td>not relevant</td>\n",
       "      <td>not relevant</td>\n",
       "      <td>not relevant</td>\n",
       "      <td>not relevant</td>\n",
       "      <td>not relevant</td>\n",
       "      <td>not relevant</td>\n",
       "      <td>relevant</td>\n",
       "      <td>not relevant</td>\n",
       "      <td>not relevant</td>\n",
       "      <td>2</td>\n",
       "    </tr>\n",
       "    <tr>\n",
       "      <th>2635</th>\n",
       "      <td>1464854322</td>\n",
       "      <td>1.005068</td>\n",
       "      <td>0.001805</td>\n",
       "      <td>-0.001181</td>\n",
       "      <td>0.002544</td>\n",
       "      <td>1.003864</td>\n",
       "      <td>1.005103</td>\n",
       "      <td>1.006312</td>\n",
       "      <td>2.328118</td>\n",
       "      <td>6.68461</td>\n",
       "      <td>...</td>\n",
       "      <td>not relevant</td>\n",
       "      <td>not relevant</td>\n",
       "      <td>not relevant</td>\n",
       "      <td>not relevant</td>\n",
       "      <td>not relevant</td>\n",
       "      <td>not relevant</td>\n",
       "      <td>relevant</td>\n",
       "      <td>not relevant</td>\n",
       "      <td>not relevant</td>\n",
       "      <td>2</td>\n",
       "    </tr>\n",
       "    <tr>\n",
       "      <th>2642</th>\n",
       "      <td>1464856423</td>\n",
       "      <td>1.005364</td>\n",
       "      <td>0.001795</td>\n",
       "      <td>0.000196</td>\n",
       "      <td>0.002383</td>\n",
       "      <td>1.004156</td>\n",
       "      <td>1.005304</td>\n",
       "      <td>1.006581</td>\n",
       "      <td>2.384524</td>\n",
       "      <td>6.68461</td>\n",
       "      <td>...</td>\n",
       "      <td>not relevant</td>\n",
       "      <td>not relevant</td>\n",
       "      <td>not relevant</td>\n",
       "      <td>not relevant</td>\n",
       "      <td>not relevant</td>\n",
       "      <td>not relevant</td>\n",
       "      <td>relevant</td>\n",
       "      <td>not relevant</td>\n",
       "      <td>not relevant</td>\n",
       "      <td>2</td>\n",
       "    </tr>\n",
       "    <tr>\n",
       "      <th>2647</th>\n",
       "      <td>1464866923</td>\n",
       "      <td>1.005226</td>\n",
       "      <td>0.001766</td>\n",
       "      <td>-0.001070</td>\n",
       "      <td>0.002397</td>\n",
       "      <td>1.004118</td>\n",
       "      <td>1.005279</td>\n",
       "      <td>1.006395</td>\n",
       "      <td>2.387002</td>\n",
       "      <td>6.68461</td>\n",
       "      <td>...</td>\n",
       "      <td>not relevant</td>\n",
       "      <td>not relevant</td>\n",
       "      <td>not relevant</td>\n",
       "      <td>not relevant</td>\n",
       "      <td>not relevant</td>\n",
       "      <td>not relevant</td>\n",
       "      <td>relevant</td>\n",
       "      <td>not relevant</td>\n",
       "      <td>not relevant</td>\n",
       "      <td>2</td>\n",
       "    </tr>\n",
       "    <tr>\n",
       "      <th>2656</th>\n",
       "      <td>1464879522</td>\n",
       "      <td>1.005135</td>\n",
       "      <td>0.001721</td>\n",
       "      <td>-0.000581</td>\n",
       "      <td>0.002348</td>\n",
       "      <td>1.004047</td>\n",
       "      <td>1.005166</td>\n",
       "      <td>1.006252</td>\n",
       "      <td>2.328417</td>\n",
       "      <td>6.68461</td>\n",
       "      <td>...</td>\n",
       "      <td>not relevant</td>\n",
       "      <td>not relevant</td>\n",
       "      <td>not relevant</td>\n",
       "      <td>not relevant</td>\n",
       "      <td>not relevant</td>\n",
       "      <td>not relevant</td>\n",
       "      <td>relevant</td>\n",
       "      <td>not relevant</td>\n",
       "      <td>not relevant</td>\n",
       "      <td>2</td>\n",
       "    </tr>\n",
       "  </tbody>\n",
       "</table>\n",
       "<p>5 rows × 256 columns</p>\n",
       "</div>"
      ],
      "text/plain": [
       "       timestamp  raw_acc:magnitude_stats:mean  raw_acc:magnitude_stats:std  \\\n",
       "1517  1464526162                      1.008893                     0.001755   \n",
       "2635  1464854322                      1.005068                     0.001805   \n",
       "2642  1464856423                      1.005364                     0.001795   \n",
       "2647  1464866923                      1.005226                     0.001766   \n",
       "2656  1464879522                      1.005135                     0.001721   \n",
       "\n",
       "      raw_acc:magnitude_stats:moment3  raw_acc:magnitude_stats:moment4  \\\n",
       "1517                        -0.001109                         0.002432   \n",
       "2635                        -0.001181                         0.002544   \n",
       "2642                         0.000196                         0.002383   \n",
       "2647                        -0.001070                         0.002397   \n",
       "2656                        -0.000581                         0.002348   \n",
       "\n",
       "      raw_acc:magnitude_stats:percentile25  \\\n",
       "1517                              1.007836   \n",
       "2635                              1.003864   \n",
       "2642                              1.004156   \n",
       "2647                              1.004118   \n",
       "2656                              1.004047   \n",
       "\n",
       "      raw_acc:magnitude_stats:percentile50  \\\n",
       "1517                              1.008875   \n",
       "2635                              1.005103   \n",
       "2642                              1.005304   \n",
       "2647                              1.005279   \n",
       "2656                              1.005166   \n",
       "\n",
       "      raw_acc:magnitude_stats:percentile75  \\\n",
       "1517                              1.010029   \n",
       "2635                              1.006312   \n",
       "2642                              1.006581   \n",
       "2647                              1.006395   \n",
       "2656                              1.006252   \n",
       "\n",
       "      raw_acc:magnitude_stats:value_entropy  \\\n",
       "1517                               2.388380   \n",
       "2635                               2.328118   \n",
       "2642                               2.384524   \n",
       "2647                               2.387002   \n",
       "2656                               2.328417   \n",
       "\n",
       "      raw_acc:magnitude_stats:time_entropy  ...  label:DRESSING  \\\n",
       "1517                               6.68461  ...    not relevant   \n",
       "2635                               6.68461  ...    not relevant   \n",
       "2642                               6.68461  ...    not relevant   \n",
       "2647                               6.68461  ...    not relevant   \n",
       "2656                               6.68461  ...    not relevant   \n",
       "\n",
       "      label:STAIRS_-_GOING_UP  label:STAIRS_-_GOING_DOWN  label:OR_standing  \\\n",
       "1517             not relevant               not relevant       not relevant   \n",
       "2635             not relevant               not relevant       not relevant   \n",
       "2642             not relevant               not relevant       not relevant   \n",
       "2647             not relevant               not relevant       not relevant   \n",
       "2656             not relevant               not relevant       not relevant   \n",
       "\n",
       "      label:AT_SCHOOL  label:PHONE_IN_HAND  label:PHONE_ON_TABLE  \\\n",
       "1517     not relevant         not relevant              relevant   \n",
       "2635     not relevant         not relevant              relevant   \n",
       "2642     not relevant         not relevant              relevant   \n",
       "2647     not relevant         not relevant              relevant   \n",
       "2656     not relevant         not relevant              relevant   \n",
       "\n",
       "      label:WITH_CO-WORKERS  label:WITH_FRIENDS  label_source  \n",
       "1517           not relevant        not relevant             2  \n",
       "2635           not relevant        not relevant             2  \n",
       "2642           not relevant        not relevant             2  \n",
       "2647           not relevant        not relevant             2  \n",
       "2656           not relevant        not relevant             2  \n",
       "\n",
       "[5 rows x 256 columns]"
      ]
     },
     "execution_count": 53,
     "metadata": {},
     "output_type": "execute_result"
    }
   ],
   "source": [
    "data.head()"
   ]
  },
  {
   "cell_type": "code",
   "execution_count": null,
   "metadata": {},
   "outputs": [],
   "source": [
    "# label:OR_indoors --> 3andaha 41% missing values \n",
    "# label:OR_outside --> 3andaha 41% missing values \n",
    "# label:PHONE_IN_HAND --> 3andaha 4% missing values\n",
    "# label:PHONE_ON_TABLE --> 3andaha 4% missing values\n"
   ]
  },
  {
   "cell_type": "code",
   "execution_count": 64,
   "metadata": {},
   "outputs": [],
   "source": [
    "columns_with_na = ['label:OR_indoors' , 'label:OR_outside', 'label:PHONE_IN_HAND' , 'label:PHONE_ON_TABLE' ]"
   ]
  },
  {
   "cell_type": "code",
   "execution_count": 65,
   "metadata": {},
   "outputs": [
    {
     "name": "stdout",
     "output_type": "stream",
     "text": [
      "<class 'pandas.core.frame.DataFrame'>\n",
      "Int64Index: 7 entries, 1517 to 2661\n",
      "Columns: 256 entries, timestamp to label_source\n",
      "dtypes: float64(184), int64(2), object(70)\n",
      "memory usage: 14.1+ KB\n"
     ]
    }
   ],
   "source": [
    "df_records_dropped = data.dropna(axis=0, subset = columns_with_na)\n",
    "df_records_dropped.info()"
   ]
  },
  {
   "cell_type": "code",
   "execution_count": 68,
   "metadata": {},
   "outputs": [
    {
     "data": {
      "text/plain": [
       "0"
      ]
     },
     "execution_count": 68,
     "metadata": {},
     "output_type": "execute_result"
    }
   ],
   "source": [
    "#testing\n",
    "data['label:OR_indoors'].isnull().sum()"
   ]
  },
  {
   "cell_type": "code",
   "execution_count": 77,
   "metadata": {},
   "outputs": [],
   "source": [
    "columns_with_na2 = ['raw_magnet:magnitude_stats:mean' , 'raw_magnet:magnitude_stats:std',\n",
    " 'raw_magnet:magnitude_stats:moment3' , 'raw_magnet:magnitude_stats:moment4', 'raw_magnet:magnitude_stats:percentile25', \n",
    " 'raw_magnet:magnitude_stats:percentile50' , 'raw_magnet:magnitude_stats:percentile75', \n",
    " 'raw_magnet:magnitude_stats:value_entropy', 'raw_magnet:magnitude_stats:time_entropy', 'raw_magnet:magnitude_spectrum:log_energy_band0',\n",
    " 'raw_magnet:magnitude_spectrum:log_energy_band1', 'raw_magnet:magnitude_spectrum:log_energy_band2', \n",
    " 'raw_magnet:magnitude_spectrum:log_energy_band3' , 'raw_magnet:magnitude_spectrum:log_energy_band4' , \n",
    " 'raw_magnet:magnitude_spectrum:spectral_entropy' , 'raw_magnet:magnitude_autocorrelation:period', \n",
    " 'raw_magnet:magnitude_autocorrelation:normalized_ac' , 'raw_magnet:3d:mean_x']"
   ]
  },
  {
   "cell_type": "code",
   "execution_count": 78,
   "metadata": {},
   "outputs": [
    {
     "name": "stdout",
     "output_type": "stream",
     "text": [
      "<class 'pandas.core.frame.DataFrame'>\n",
      "Int64Index: 7 entries, 1517 to 2661\n",
      "Columns: 256 entries, timestamp to label_source\n",
      "dtypes: float64(184), int64(2), object(70)\n",
      "memory usage: 14.1+ KB\n"
     ]
    }
   ],
   "source": [
    "df_records_dropped = data.dropna(axis=0, subset = columns_with_na2)\n",
    "df_records_dropped.info()"
   ]
  },
  {
   "cell_type": "code",
   "execution_count": 79,
   "metadata": {},
   "outputs": [
    {
     "data": {
      "text/plain": [
       "256"
      ]
     },
     "execution_count": 79,
     "metadata": {},
     "output_type": "execute_result"
    }
   ],
   "source": [
    "data.isnull().sum().count()"
   ]
  },
  {
   "cell_type": "code",
   "execution_count": 87,
   "metadata": {},
   "outputs": [
    {
     "data": {
      "text/plain": [
       "1517    False\n",
       "2635    False\n",
       "2642    False\n",
       "2647    False\n",
       "2656    False\n",
       "2657    False\n",
       "2661    False\n",
       "Name: raw_magnet:3d:mean_x, dtype: bool"
      ]
     },
     "execution_count": 87,
     "metadata": {},
     "output_type": "execute_result"
    }
   ],
   "source": [
    "data['raw_magnet:3d:mean_x'].isnull()"
   ]
  },
  {
   "cell_type": "code",
   "execution_count": 89,
   "metadata": {},
   "outputs": [
    {
     "data": {
      "text/html": [
       "<div>\n",
       "<style scoped>\n",
       "    .dataframe tbody tr th:only-of-type {\n",
       "        vertical-align: middle;\n",
       "    }\n",
       "\n",
       "    .dataframe tbody tr th {\n",
       "        vertical-align: top;\n",
       "    }\n",
       "\n",
       "    .dataframe thead th {\n",
       "        text-align: right;\n",
       "    }\n",
       "</style>\n",
       "<table border=\"1\" class=\"dataframe\">\n",
       "  <thead>\n",
       "    <tr style=\"text-align: right;\">\n",
       "      <th></th>\n",
       "      <th>timestamp</th>\n",
       "      <th>raw_acc:magnitude_stats:mean</th>\n",
       "      <th>raw_acc:magnitude_stats:std</th>\n",
       "      <th>raw_acc:magnitude_stats:moment3</th>\n",
       "      <th>raw_acc:magnitude_stats:moment4</th>\n",
       "      <th>raw_acc:magnitude_stats:percentile25</th>\n",
       "      <th>raw_acc:magnitude_stats:percentile50</th>\n",
       "      <th>raw_acc:magnitude_stats:percentile75</th>\n",
       "      <th>raw_acc:magnitude_stats:value_entropy</th>\n",
       "      <th>raw_acc:magnitude_stats:time_entropy</th>\n",
       "      <th>...</th>\n",
       "      <th>label:DRESSING</th>\n",
       "      <th>label:STAIRS_-_GOING_UP</th>\n",
       "      <th>label:STAIRS_-_GOING_DOWN</th>\n",
       "      <th>label:OR_standing</th>\n",
       "      <th>label:AT_SCHOOL</th>\n",
       "      <th>label:PHONE_IN_HAND</th>\n",
       "      <th>label:PHONE_ON_TABLE</th>\n",
       "      <th>label:WITH_CO-WORKERS</th>\n",
       "      <th>label:WITH_FRIENDS</th>\n",
       "      <th>label_source</th>\n",
       "    </tr>\n",
       "  </thead>\n",
       "  <tbody>\n",
       "    <tr>\n",
       "      <th>1517</th>\n",
       "      <td>1464526162</td>\n",
       "      <td>1.008893</td>\n",
       "      <td>0.001755</td>\n",
       "      <td>-0.001109</td>\n",
       "      <td>0.002432</td>\n",
       "      <td>1.007836</td>\n",
       "      <td>1.008875</td>\n",
       "      <td>1.010029</td>\n",
       "      <td>2.388380</td>\n",
       "      <td>6.68461</td>\n",
       "      <td>...</td>\n",
       "      <td>not relevant</td>\n",
       "      <td>not relevant</td>\n",
       "      <td>not relevant</td>\n",
       "      <td>not relevant</td>\n",
       "      <td>not relevant</td>\n",
       "      <td>not relevant</td>\n",
       "      <td>relevant</td>\n",
       "      <td>not relevant</td>\n",
       "      <td>not relevant</td>\n",
       "      <td>2</td>\n",
       "    </tr>\n",
       "    <tr>\n",
       "      <th>2635</th>\n",
       "      <td>1464854322</td>\n",
       "      <td>1.005068</td>\n",
       "      <td>0.001805</td>\n",
       "      <td>-0.001181</td>\n",
       "      <td>0.002544</td>\n",
       "      <td>1.003864</td>\n",
       "      <td>1.005103</td>\n",
       "      <td>1.006312</td>\n",
       "      <td>2.328118</td>\n",
       "      <td>6.68461</td>\n",
       "      <td>...</td>\n",
       "      <td>not relevant</td>\n",
       "      <td>not relevant</td>\n",
       "      <td>not relevant</td>\n",
       "      <td>not relevant</td>\n",
       "      <td>not relevant</td>\n",
       "      <td>not relevant</td>\n",
       "      <td>relevant</td>\n",
       "      <td>not relevant</td>\n",
       "      <td>not relevant</td>\n",
       "      <td>2</td>\n",
       "    </tr>\n",
       "    <tr>\n",
       "      <th>2642</th>\n",
       "      <td>1464856423</td>\n",
       "      <td>1.005364</td>\n",
       "      <td>0.001795</td>\n",
       "      <td>0.000196</td>\n",
       "      <td>0.002383</td>\n",
       "      <td>1.004156</td>\n",
       "      <td>1.005304</td>\n",
       "      <td>1.006581</td>\n",
       "      <td>2.384524</td>\n",
       "      <td>6.68461</td>\n",
       "      <td>...</td>\n",
       "      <td>not relevant</td>\n",
       "      <td>not relevant</td>\n",
       "      <td>not relevant</td>\n",
       "      <td>not relevant</td>\n",
       "      <td>not relevant</td>\n",
       "      <td>not relevant</td>\n",
       "      <td>relevant</td>\n",
       "      <td>not relevant</td>\n",
       "      <td>not relevant</td>\n",
       "      <td>2</td>\n",
       "    </tr>\n",
       "    <tr>\n",
       "      <th>2647</th>\n",
       "      <td>1464866923</td>\n",
       "      <td>1.005226</td>\n",
       "      <td>0.001766</td>\n",
       "      <td>-0.001070</td>\n",
       "      <td>0.002397</td>\n",
       "      <td>1.004118</td>\n",
       "      <td>1.005279</td>\n",
       "      <td>1.006395</td>\n",
       "      <td>2.387002</td>\n",
       "      <td>6.68461</td>\n",
       "      <td>...</td>\n",
       "      <td>not relevant</td>\n",
       "      <td>not relevant</td>\n",
       "      <td>not relevant</td>\n",
       "      <td>not relevant</td>\n",
       "      <td>not relevant</td>\n",
       "      <td>not relevant</td>\n",
       "      <td>relevant</td>\n",
       "      <td>not relevant</td>\n",
       "      <td>not relevant</td>\n",
       "      <td>2</td>\n",
       "    </tr>\n",
       "    <tr>\n",
       "      <th>2656</th>\n",
       "      <td>1464879522</td>\n",
       "      <td>1.005135</td>\n",
       "      <td>0.001721</td>\n",
       "      <td>-0.000581</td>\n",
       "      <td>0.002348</td>\n",
       "      <td>1.004047</td>\n",
       "      <td>1.005166</td>\n",
       "      <td>1.006252</td>\n",
       "      <td>2.328417</td>\n",
       "      <td>6.68461</td>\n",
       "      <td>...</td>\n",
       "      <td>not relevant</td>\n",
       "      <td>not relevant</td>\n",
       "      <td>not relevant</td>\n",
       "      <td>not relevant</td>\n",
       "      <td>not relevant</td>\n",
       "      <td>not relevant</td>\n",
       "      <td>relevant</td>\n",
       "      <td>not relevant</td>\n",
       "      <td>not relevant</td>\n",
       "      <td>2</td>\n",
       "    </tr>\n",
       "    <tr>\n",
       "      <th>2657</th>\n",
       "      <td>1464879822</td>\n",
       "      <td>1.005060</td>\n",
       "      <td>0.001772</td>\n",
       "      <td>-0.000913</td>\n",
       "      <td>0.002409</td>\n",
       "      <td>1.003863</td>\n",
       "      <td>1.005095</td>\n",
       "      <td>1.006255</td>\n",
       "      <td>2.368755</td>\n",
       "      <td>6.68461</td>\n",
       "      <td>...</td>\n",
       "      <td>not relevant</td>\n",
       "      <td>not relevant</td>\n",
       "      <td>not relevant</td>\n",
       "      <td>not relevant</td>\n",
       "      <td>not relevant</td>\n",
       "      <td>not relevant</td>\n",
       "      <td>relevant</td>\n",
       "      <td>not relevant</td>\n",
       "      <td>not relevant</td>\n",
       "      <td>2</td>\n",
       "    </tr>\n",
       "    <tr>\n",
       "      <th>2661</th>\n",
       "      <td>1464881022</td>\n",
       "      <td>1.005202</td>\n",
       "      <td>0.001867</td>\n",
       "      <td>-0.001221</td>\n",
       "      <td>0.002611</td>\n",
       "      <td>1.004101</td>\n",
       "      <td>1.005231</td>\n",
       "      <td>1.006431</td>\n",
       "      <td>2.282624</td>\n",
       "      <td>6.68461</td>\n",
       "      <td>...</td>\n",
       "      <td>not relevant</td>\n",
       "      <td>not relevant</td>\n",
       "      <td>not relevant</td>\n",
       "      <td>not relevant</td>\n",
       "      <td>not relevant</td>\n",
       "      <td>not relevant</td>\n",
       "      <td>relevant</td>\n",
       "      <td>not relevant</td>\n",
       "      <td>not relevant</td>\n",
       "      <td>2</td>\n",
       "    </tr>\n",
       "  </tbody>\n",
       "</table>\n",
       "<p>7 rows × 256 columns</p>\n",
       "</div>"
      ],
      "text/plain": [
       "       timestamp  raw_acc:magnitude_stats:mean  raw_acc:magnitude_stats:std  \\\n",
       "1517  1464526162                      1.008893                     0.001755   \n",
       "2635  1464854322                      1.005068                     0.001805   \n",
       "2642  1464856423                      1.005364                     0.001795   \n",
       "2647  1464866923                      1.005226                     0.001766   \n",
       "2656  1464879522                      1.005135                     0.001721   \n",
       "2657  1464879822                      1.005060                     0.001772   \n",
       "2661  1464881022                      1.005202                     0.001867   \n",
       "\n",
       "      raw_acc:magnitude_stats:moment3  raw_acc:magnitude_stats:moment4  \\\n",
       "1517                        -0.001109                         0.002432   \n",
       "2635                        -0.001181                         0.002544   \n",
       "2642                         0.000196                         0.002383   \n",
       "2647                        -0.001070                         0.002397   \n",
       "2656                        -0.000581                         0.002348   \n",
       "2657                        -0.000913                         0.002409   \n",
       "2661                        -0.001221                         0.002611   \n",
       "\n",
       "      raw_acc:magnitude_stats:percentile25  \\\n",
       "1517                              1.007836   \n",
       "2635                              1.003864   \n",
       "2642                              1.004156   \n",
       "2647                              1.004118   \n",
       "2656                              1.004047   \n",
       "2657                              1.003863   \n",
       "2661                              1.004101   \n",
       "\n",
       "      raw_acc:magnitude_stats:percentile50  \\\n",
       "1517                              1.008875   \n",
       "2635                              1.005103   \n",
       "2642                              1.005304   \n",
       "2647                              1.005279   \n",
       "2656                              1.005166   \n",
       "2657                              1.005095   \n",
       "2661                              1.005231   \n",
       "\n",
       "      raw_acc:magnitude_stats:percentile75  \\\n",
       "1517                              1.010029   \n",
       "2635                              1.006312   \n",
       "2642                              1.006581   \n",
       "2647                              1.006395   \n",
       "2656                              1.006252   \n",
       "2657                              1.006255   \n",
       "2661                              1.006431   \n",
       "\n",
       "      raw_acc:magnitude_stats:value_entropy  \\\n",
       "1517                               2.388380   \n",
       "2635                               2.328118   \n",
       "2642                               2.384524   \n",
       "2647                               2.387002   \n",
       "2656                               2.328417   \n",
       "2657                               2.368755   \n",
       "2661                               2.282624   \n",
       "\n",
       "      raw_acc:magnitude_stats:time_entropy  ...  label:DRESSING  \\\n",
       "1517                               6.68461  ...    not relevant   \n",
       "2635                               6.68461  ...    not relevant   \n",
       "2642                               6.68461  ...    not relevant   \n",
       "2647                               6.68461  ...    not relevant   \n",
       "2656                               6.68461  ...    not relevant   \n",
       "2657                               6.68461  ...    not relevant   \n",
       "2661                               6.68461  ...    not relevant   \n",
       "\n",
       "      label:STAIRS_-_GOING_UP  label:STAIRS_-_GOING_DOWN  label:OR_standing  \\\n",
       "1517             not relevant               not relevant       not relevant   \n",
       "2635             not relevant               not relevant       not relevant   \n",
       "2642             not relevant               not relevant       not relevant   \n",
       "2647             not relevant               not relevant       not relevant   \n",
       "2656             not relevant               not relevant       not relevant   \n",
       "2657             not relevant               not relevant       not relevant   \n",
       "2661             not relevant               not relevant       not relevant   \n",
       "\n",
       "      label:AT_SCHOOL  label:PHONE_IN_HAND  label:PHONE_ON_TABLE  \\\n",
       "1517     not relevant         not relevant              relevant   \n",
       "2635     not relevant         not relevant              relevant   \n",
       "2642     not relevant         not relevant              relevant   \n",
       "2647     not relevant         not relevant              relevant   \n",
       "2656     not relevant         not relevant              relevant   \n",
       "2657     not relevant         not relevant              relevant   \n",
       "2661     not relevant         not relevant              relevant   \n",
       "\n",
       "      label:WITH_CO-WORKERS  label:WITH_FRIENDS  label_source  \n",
       "1517           not relevant        not relevant             2  \n",
       "2635           not relevant        not relevant             2  \n",
       "2642           not relevant        not relevant             2  \n",
       "2647           not relevant        not relevant             2  \n",
       "2656           not relevant        not relevant             2  \n",
       "2657           not relevant        not relevant             2  \n",
       "2661           not relevant        not relevant             2  \n",
       "\n",
       "[7 rows x 256 columns]"
      ]
     },
     "execution_count": 89,
     "metadata": {},
     "output_type": "execute_result"
    }
   ],
   "source": [
    "data = data.fillna(method='ffill')\n",
    "data"
   ]
  },
  {
   "cell_type": "code",
   "execution_count": 95,
   "metadata": {},
   "outputs": [
    {
     "data": {
      "text/html": [
       "<div>\n",
       "<style scoped>\n",
       "    .dataframe tbody tr th:only-of-type {\n",
       "        vertical-align: middle;\n",
       "    }\n",
       "\n",
       "    .dataframe tbody tr th {\n",
       "        vertical-align: top;\n",
       "    }\n",
       "\n",
       "    .dataframe thead th {\n",
       "        text-align: right;\n",
       "    }\n",
       "</style>\n",
       "<table border=\"1\" class=\"dataframe\">\n",
       "  <thead>\n",
       "    <tr style=\"text-align: right;\">\n",
       "      <th></th>\n",
       "      <th>timestamp</th>\n",
       "      <th>raw_acc:magnitude_stats:mean</th>\n",
       "      <th>raw_acc:magnitude_stats:std</th>\n",
       "      <th>raw_acc:magnitude_stats:moment3</th>\n",
       "      <th>raw_acc:magnitude_stats:moment4</th>\n",
       "      <th>raw_acc:magnitude_stats:percentile25</th>\n",
       "      <th>raw_acc:magnitude_stats:percentile50</th>\n",
       "      <th>raw_acc:magnitude_stats:percentile75</th>\n",
       "      <th>raw_acc:magnitude_stats:value_entropy</th>\n",
       "      <th>raw_acc:magnitude_stats:time_entropy</th>\n",
       "      <th>...</th>\n",
       "      <th>label:DRESSING</th>\n",
       "      <th>label:STAIRS_-_GOING_UP</th>\n",
       "      <th>label:STAIRS_-_GOING_DOWN</th>\n",
       "      <th>label:OR_standing</th>\n",
       "      <th>label:AT_SCHOOL</th>\n",
       "      <th>label:PHONE_IN_HAND</th>\n",
       "      <th>label:PHONE_ON_TABLE</th>\n",
       "      <th>label:WITH_CO-WORKERS</th>\n",
       "      <th>label:WITH_FRIENDS</th>\n",
       "      <th>label_source</th>\n",
       "    </tr>\n",
       "  </thead>\n",
       "  <tbody>\n",
       "    <tr>\n",
       "      <th>1517</th>\n",
       "      <td>False</td>\n",
       "      <td>False</td>\n",
       "      <td>False</td>\n",
       "      <td>False</td>\n",
       "      <td>False</td>\n",
       "      <td>False</td>\n",
       "      <td>False</td>\n",
       "      <td>False</td>\n",
       "      <td>False</td>\n",
       "      <td>False</td>\n",
       "      <td>...</td>\n",
       "      <td>False</td>\n",
       "      <td>False</td>\n",
       "      <td>False</td>\n",
       "      <td>False</td>\n",
       "      <td>False</td>\n",
       "      <td>False</td>\n",
       "      <td>False</td>\n",
       "      <td>False</td>\n",
       "      <td>False</td>\n",
       "      <td>False</td>\n",
       "    </tr>\n",
       "    <tr>\n",
       "      <th>2635</th>\n",
       "      <td>False</td>\n",
       "      <td>False</td>\n",
       "      <td>False</td>\n",
       "      <td>False</td>\n",
       "      <td>False</td>\n",
       "      <td>False</td>\n",
       "      <td>False</td>\n",
       "      <td>False</td>\n",
       "      <td>False</td>\n",
       "      <td>False</td>\n",
       "      <td>...</td>\n",
       "      <td>False</td>\n",
       "      <td>False</td>\n",
       "      <td>False</td>\n",
       "      <td>False</td>\n",
       "      <td>False</td>\n",
       "      <td>False</td>\n",
       "      <td>False</td>\n",
       "      <td>False</td>\n",
       "      <td>False</td>\n",
       "      <td>False</td>\n",
       "    </tr>\n",
       "    <tr>\n",
       "      <th>2642</th>\n",
       "      <td>False</td>\n",
       "      <td>False</td>\n",
       "      <td>False</td>\n",
       "      <td>False</td>\n",
       "      <td>False</td>\n",
       "      <td>False</td>\n",
       "      <td>False</td>\n",
       "      <td>False</td>\n",
       "      <td>False</td>\n",
       "      <td>False</td>\n",
       "      <td>...</td>\n",
       "      <td>False</td>\n",
       "      <td>False</td>\n",
       "      <td>False</td>\n",
       "      <td>False</td>\n",
       "      <td>False</td>\n",
       "      <td>False</td>\n",
       "      <td>False</td>\n",
       "      <td>False</td>\n",
       "      <td>False</td>\n",
       "      <td>False</td>\n",
       "    </tr>\n",
       "    <tr>\n",
       "      <th>2647</th>\n",
       "      <td>False</td>\n",
       "      <td>False</td>\n",
       "      <td>False</td>\n",
       "      <td>False</td>\n",
       "      <td>False</td>\n",
       "      <td>False</td>\n",
       "      <td>False</td>\n",
       "      <td>False</td>\n",
       "      <td>False</td>\n",
       "      <td>False</td>\n",
       "      <td>...</td>\n",
       "      <td>False</td>\n",
       "      <td>False</td>\n",
       "      <td>False</td>\n",
       "      <td>False</td>\n",
       "      <td>False</td>\n",
       "      <td>False</td>\n",
       "      <td>False</td>\n",
       "      <td>False</td>\n",
       "      <td>False</td>\n",
       "      <td>False</td>\n",
       "    </tr>\n",
       "    <tr>\n",
       "      <th>2656</th>\n",
       "      <td>False</td>\n",
       "      <td>False</td>\n",
       "      <td>False</td>\n",
       "      <td>False</td>\n",
       "      <td>False</td>\n",
       "      <td>False</td>\n",
       "      <td>False</td>\n",
       "      <td>False</td>\n",
       "      <td>False</td>\n",
       "      <td>False</td>\n",
       "      <td>...</td>\n",
       "      <td>False</td>\n",
       "      <td>False</td>\n",
       "      <td>False</td>\n",
       "      <td>False</td>\n",
       "      <td>False</td>\n",
       "      <td>False</td>\n",
       "      <td>False</td>\n",
       "      <td>False</td>\n",
       "      <td>False</td>\n",
       "      <td>False</td>\n",
       "    </tr>\n",
       "    <tr>\n",
       "      <th>2657</th>\n",
       "      <td>False</td>\n",
       "      <td>False</td>\n",
       "      <td>False</td>\n",
       "      <td>False</td>\n",
       "      <td>False</td>\n",
       "      <td>False</td>\n",
       "      <td>False</td>\n",
       "      <td>False</td>\n",
       "      <td>False</td>\n",
       "      <td>False</td>\n",
       "      <td>...</td>\n",
       "      <td>False</td>\n",
       "      <td>False</td>\n",
       "      <td>False</td>\n",
       "      <td>False</td>\n",
       "      <td>False</td>\n",
       "      <td>False</td>\n",
       "      <td>False</td>\n",
       "      <td>False</td>\n",
       "      <td>False</td>\n",
       "      <td>False</td>\n",
       "    </tr>\n",
       "    <tr>\n",
       "      <th>2661</th>\n",
       "      <td>False</td>\n",
       "      <td>False</td>\n",
       "      <td>False</td>\n",
       "      <td>False</td>\n",
       "      <td>False</td>\n",
       "      <td>False</td>\n",
       "      <td>False</td>\n",
       "      <td>False</td>\n",
       "      <td>False</td>\n",
       "      <td>False</td>\n",
       "      <td>...</td>\n",
       "      <td>False</td>\n",
       "      <td>False</td>\n",
       "      <td>False</td>\n",
       "      <td>False</td>\n",
       "      <td>False</td>\n",
       "      <td>False</td>\n",
       "      <td>False</td>\n",
       "      <td>False</td>\n",
       "      <td>False</td>\n",
       "      <td>False</td>\n",
       "    </tr>\n",
       "  </tbody>\n",
       "</table>\n",
       "<p>7 rows × 256 columns</p>\n",
       "</div>"
      ],
      "text/plain": [
       "      timestamp  raw_acc:magnitude_stats:mean  raw_acc:magnitude_stats:std  \\\n",
       "1517      False                         False                        False   \n",
       "2635      False                         False                        False   \n",
       "2642      False                         False                        False   \n",
       "2647      False                         False                        False   \n",
       "2656      False                         False                        False   \n",
       "2657      False                         False                        False   \n",
       "2661      False                         False                        False   \n",
       "\n",
       "      raw_acc:magnitude_stats:moment3  raw_acc:magnitude_stats:moment4  \\\n",
       "1517                            False                            False   \n",
       "2635                            False                            False   \n",
       "2642                            False                            False   \n",
       "2647                            False                            False   \n",
       "2656                            False                            False   \n",
       "2657                            False                            False   \n",
       "2661                            False                            False   \n",
       "\n",
       "      raw_acc:magnitude_stats:percentile25  \\\n",
       "1517                                 False   \n",
       "2635                                 False   \n",
       "2642                                 False   \n",
       "2647                                 False   \n",
       "2656                                 False   \n",
       "2657                                 False   \n",
       "2661                                 False   \n",
       "\n",
       "      raw_acc:magnitude_stats:percentile50  \\\n",
       "1517                                 False   \n",
       "2635                                 False   \n",
       "2642                                 False   \n",
       "2647                                 False   \n",
       "2656                                 False   \n",
       "2657                                 False   \n",
       "2661                                 False   \n",
       "\n",
       "      raw_acc:magnitude_stats:percentile75  \\\n",
       "1517                                 False   \n",
       "2635                                 False   \n",
       "2642                                 False   \n",
       "2647                                 False   \n",
       "2656                                 False   \n",
       "2657                                 False   \n",
       "2661                                 False   \n",
       "\n",
       "      raw_acc:magnitude_stats:value_entropy  \\\n",
       "1517                                  False   \n",
       "2635                                  False   \n",
       "2642                                  False   \n",
       "2647                                  False   \n",
       "2656                                  False   \n",
       "2657                                  False   \n",
       "2661                                  False   \n",
       "\n",
       "      raw_acc:magnitude_stats:time_entropy  ...  label:DRESSING  \\\n",
       "1517                                 False  ...           False   \n",
       "2635                                 False  ...           False   \n",
       "2642                                 False  ...           False   \n",
       "2647                                 False  ...           False   \n",
       "2656                                 False  ...           False   \n",
       "2657                                 False  ...           False   \n",
       "2661                                 False  ...           False   \n",
       "\n",
       "      label:STAIRS_-_GOING_UP  label:STAIRS_-_GOING_DOWN  label:OR_standing  \\\n",
       "1517                    False                      False              False   \n",
       "2635                    False                      False              False   \n",
       "2642                    False                      False              False   \n",
       "2647                    False                      False              False   \n",
       "2656                    False                      False              False   \n",
       "2657                    False                      False              False   \n",
       "2661                    False                      False              False   \n",
       "\n",
       "      label:AT_SCHOOL  label:PHONE_IN_HAND  label:PHONE_ON_TABLE  \\\n",
       "1517            False                False                 False   \n",
       "2635            False                False                 False   \n",
       "2642            False                False                 False   \n",
       "2647            False                False                 False   \n",
       "2656            False                False                 False   \n",
       "2657            False                False                 False   \n",
       "2661            False                False                 False   \n",
       "\n",
       "      label:WITH_CO-WORKERS  label:WITH_FRIENDS  label_source  \n",
       "1517                  False               False         False  \n",
       "2635                  False               False         False  \n",
       "2642                  False               False         False  \n",
       "2647                  False               False         False  \n",
       "2656                  False               False         False  \n",
       "2657                  False               False         False  \n",
       "2661                  False               False         False  \n",
       "\n",
       "[7 rows x 256 columns]"
      ]
     },
     "execution_count": 95,
     "metadata": {},
     "output_type": "execute_result"
    }
   ],
   "source": [
    "data.isnull()"
   ]
  },
  {
   "cell_type": "code",
   "execution_count": 96,
   "metadata": {},
   "outputs": [
    {
     "data": {
      "text/html": [
       "<div>\n",
       "<style scoped>\n",
       "    .dataframe tbody tr th:only-of-type {\n",
       "        vertical-align: middle;\n",
       "    }\n",
       "\n",
       "    .dataframe tbody tr th {\n",
       "        vertical-align: top;\n",
       "    }\n",
       "\n",
       "    .dataframe thead th {\n",
       "        text-align: right;\n",
       "    }\n",
       "</style>\n",
       "<table border=\"1\" class=\"dataframe\">\n",
       "  <thead>\n",
       "    <tr style=\"text-align: right;\">\n",
       "      <th></th>\n",
       "      <th>timestamp</th>\n",
       "      <th>raw_acc:magnitude_stats:mean</th>\n",
       "      <th>raw_acc:magnitude_stats:std</th>\n",
       "      <th>raw_acc:magnitude_stats:moment3</th>\n",
       "      <th>raw_acc:magnitude_stats:moment4</th>\n",
       "      <th>raw_acc:magnitude_stats:percentile25</th>\n",
       "      <th>raw_acc:magnitude_stats:percentile50</th>\n",
       "      <th>raw_acc:magnitude_stats:percentile75</th>\n",
       "      <th>raw_acc:magnitude_stats:value_entropy</th>\n",
       "      <th>raw_acc:magnitude_stats:time_entropy</th>\n",
       "      <th>...</th>\n",
       "      <th>label:DRESSING</th>\n",
       "      <th>label:STAIRS_-_GOING_UP</th>\n",
       "      <th>label:STAIRS_-_GOING_DOWN</th>\n",
       "      <th>label:OR_standing</th>\n",
       "      <th>label:AT_SCHOOL</th>\n",
       "      <th>label:PHONE_IN_HAND</th>\n",
       "      <th>label:PHONE_ON_TABLE</th>\n",
       "      <th>label:WITH_CO-WORKERS</th>\n",
       "      <th>label:WITH_FRIENDS</th>\n",
       "      <th>label_source</th>\n",
       "    </tr>\n",
       "  </thead>\n",
       "  <tbody>\n",
       "    <tr>\n",
       "      <th>1517</th>\n",
       "      <td>1464526162</td>\n",
       "      <td>1.008893</td>\n",
       "      <td>0.001755</td>\n",
       "      <td>-0.001109</td>\n",
       "      <td>0.002432</td>\n",
       "      <td>1.007836</td>\n",
       "      <td>1.008875</td>\n",
       "      <td>1.010029</td>\n",
       "      <td>2.388380</td>\n",
       "      <td>6.68461</td>\n",
       "      <td>...</td>\n",
       "      <td>not relevant</td>\n",
       "      <td>not relevant</td>\n",
       "      <td>not relevant</td>\n",
       "      <td>not relevant</td>\n",
       "      <td>not relevant</td>\n",
       "      <td>not relevant</td>\n",
       "      <td>relevant</td>\n",
       "      <td>not relevant</td>\n",
       "      <td>not relevant</td>\n",
       "      <td>2</td>\n",
       "    </tr>\n",
       "    <tr>\n",
       "      <th>2635</th>\n",
       "      <td>1464854322</td>\n",
       "      <td>1.005068</td>\n",
       "      <td>0.001805</td>\n",
       "      <td>-0.001181</td>\n",
       "      <td>0.002544</td>\n",
       "      <td>1.003864</td>\n",
       "      <td>1.005103</td>\n",
       "      <td>1.006312</td>\n",
       "      <td>2.328118</td>\n",
       "      <td>6.68461</td>\n",
       "      <td>...</td>\n",
       "      <td>not relevant</td>\n",
       "      <td>not relevant</td>\n",
       "      <td>not relevant</td>\n",
       "      <td>not relevant</td>\n",
       "      <td>not relevant</td>\n",
       "      <td>not relevant</td>\n",
       "      <td>relevant</td>\n",
       "      <td>not relevant</td>\n",
       "      <td>not relevant</td>\n",
       "      <td>2</td>\n",
       "    </tr>\n",
       "    <tr>\n",
       "      <th>2642</th>\n",
       "      <td>1464856423</td>\n",
       "      <td>1.005364</td>\n",
       "      <td>0.001795</td>\n",
       "      <td>0.000196</td>\n",
       "      <td>0.002383</td>\n",
       "      <td>1.004156</td>\n",
       "      <td>1.005304</td>\n",
       "      <td>1.006581</td>\n",
       "      <td>2.384524</td>\n",
       "      <td>6.68461</td>\n",
       "      <td>...</td>\n",
       "      <td>not relevant</td>\n",
       "      <td>not relevant</td>\n",
       "      <td>not relevant</td>\n",
       "      <td>not relevant</td>\n",
       "      <td>not relevant</td>\n",
       "      <td>not relevant</td>\n",
       "      <td>relevant</td>\n",
       "      <td>not relevant</td>\n",
       "      <td>not relevant</td>\n",
       "      <td>2</td>\n",
       "    </tr>\n",
       "    <tr>\n",
       "      <th>2647</th>\n",
       "      <td>1464866923</td>\n",
       "      <td>1.005226</td>\n",
       "      <td>0.001766</td>\n",
       "      <td>-0.001070</td>\n",
       "      <td>0.002397</td>\n",
       "      <td>1.004118</td>\n",
       "      <td>1.005279</td>\n",
       "      <td>1.006395</td>\n",
       "      <td>2.387002</td>\n",
       "      <td>6.68461</td>\n",
       "      <td>...</td>\n",
       "      <td>not relevant</td>\n",
       "      <td>not relevant</td>\n",
       "      <td>not relevant</td>\n",
       "      <td>not relevant</td>\n",
       "      <td>not relevant</td>\n",
       "      <td>not relevant</td>\n",
       "      <td>relevant</td>\n",
       "      <td>not relevant</td>\n",
       "      <td>not relevant</td>\n",
       "      <td>2</td>\n",
       "    </tr>\n",
       "    <tr>\n",
       "      <th>2656</th>\n",
       "      <td>1464879522</td>\n",
       "      <td>1.005135</td>\n",
       "      <td>0.001721</td>\n",
       "      <td>-0.000581</td>\n",
       "      <td>0.002348</td>\n",
       "      <td>1.004047</td>\n",
       "      <td>1.005166</td>\n",
       "      <td>1.006252</td>\n",
       "      <td>2.328417</td>\n",
       "      <td>6.68461</td>\n",
       "      <td>...</td>\n",
       "      <td>not relevant</td>\n",
       "      <td>not relevant</td>\n",
       "      <td>not relevant</td>\n",
       "      <td>not relevant</td>\n",
       "      <td>not relevant</td>\n",
       "      <td>not relevant</td>\n",
       "      <td>relevant</td>\n",
       "      <td>not relevant</td>\n",
       "      <td>not relevant</td>\n",
       "      <td>2</td>\n",
       "    </tr>\n",
       "    <tr>\n",
       "      <th>2657</th>\n",
       "      <td>1464879822</td>\n",
       "      <td>1.005060</td>\n",
       "      <td>0.001772</td>\n",
       "      <td>-0.000913</td>\n",
       "      <td>0.002409</td>\n",
       "      <td>1.003863</td>\n",
       "      <td>1.005095</td>\n",
       "      <td>1.006255</td>\n",
       "      <td>2.368755</td>\n",
       "      <td>6.68461</td>\n",
       "      <td>...</td>\n",
       "      <td>not relevant</td>\n",
       "      <td>not relevant</td>\n",
       "      <td>not relevant</td>\n",
       "      <td>not relevant</td>\n",
       "      <td>not relevant</td>\n",
       "      <td>not relevant</td>\n",
       "      <td>relevant</td>\n",
       "      <td>not relevant</td>\n",
       "      <td>not relevant</td>\n",
       "      <td>2</td>\n",
       "    </tr>\n",
       "    <tr>\n",
       "      <th>2661</th>\n",
       "      <td>1464881022</td>\n",
       "      <td>1.005202</td>\n",
       "      <td>0.001867</td>\n",
       "      <td>-0.001221</td>\n",
       "      <td>0.002611</td>\n",
       "      <td>1.004101</td>\n",
       "      <td>1.005231</td>\n",
       "      <td>1.006431</td>\n",
       "      <td>2.282624</td>\n",
       "      <td>6.68461</td>\n",
       "      <td>...</td>\n",
       "      <td>not relevant</td>\n",
       "      <td>not relevant</td>\n",
       "      <td>not relevant</td>\n",
       "      <td>not relevant</td>\n",
       "      <td>not relevant</td>\n",
       "      <td>not relevant</td>\n",
       "      <td>relevant</td>\n",
       "      <td>not relevant</td>\n",
       "      <td>not relevant</td>\n",
       "      <td>2</td>\n",
       "    </tr>\n",
       "  </tbody>\n",
       "</table>\n",
       "<p>7 rows × 256 columns</p>\n",
       "</div>"
      ],
      "text/plain": [
       "       timestamp  raw_acc:magnitude_stats:mean  raw_acc:magnitude_stats:std  \\\n",
       "1517  1464526162                      1.008893                     0.001755   \n",
       "2635  1464854322                      1.005068                     0.001805   \n",
       "2642  1464856423                      1.005364                     0.001795   \n",
       "2647  1464866923                      1.005226                     0.001766   \n",
       "2656  1464879522                      1.005135                     0.001721   \n",
       "2657  1464879822                      1.005060                     0.001772   \n",
       "2661  1464881022                      1.005202                     0.001867   \n",
       "\n",
       "      raw_acc:magnitude_stats:moment3  raw_acc:magnitude_stats:moment4  \\\n",
       "1517                        -0.001109                         0.002432   \n",
       "2635                        -0.001181                         0.002544   \n",
       "2642                         0.000196                         0.002383   \n",
       "2647                        -0.001070                         0.002397   \n",
       "2656                        -0.000581                         0.002348   \n",
       "2657                        -0.000913                         0.002409   \n",
       "2661                        -0.001221                         0.002611   \n",
       "\n",
       "      raw_acc:magnitude_stats:percentile25  \\\n",
       "1517                              1.007836   \n",
       "2635                              1.003864   \n",
       "2642                              1.004156   \n",
       "2647                              1.004118   \n",
       "2656                              1.004047   \n",
       "2657                              1.003863   \n",
       "2661                              1.004101   \n",
       "\n",
       "      raw_acc:magnitude_stats:percentile50  \\\n",
       "1517                              1.008875   \n",
       "2635                              1.005103   \n",
       "2642                              1.005304   \n",
       "2647                              1.005279   \n",
       "2656                              1.005166   \n",
       "2657                              1.005095   \n",
       "2661                              1.005231   \n",
       "\n",
       "      raw_acc:magnitude_stats:percentile75  \\\n",
       "1517                              1.010029   \n",
       "2635                              1.006312   \n",
       "2642                              1.006581   \n",
       "2647                              1.006395   \n",
       "2656                              1.006252   \n",
       "2657                              1.006255   \n",
       "2661                              1.006431   \n",
       "\n",
       "      raw_acc:magnitude_stats:value_entropy  \\\n",
       "1517                               2.388380   \n",
       "2635                               2.328118   \n",
       "2642                               2.384524   \n",
       "2647                               2.387002   \n",
       "2656                               2.328417   \n",
       "2657                               2.368755   \n",
       "2661                               2.282624   \n",
       "\n",
       "      raw_acc:magnitude_stats:time_entropy  ...  label:DRESSING  \\\n",
       "1517                               6.68461  ...    not relevant   \n",
       "2635                               6.68461  ...    not relevant   \n",
       "2642                               6.68461  ...    not relevant   \n",
       "2647                               6.68461  ...    not relevant   \n",
       "2656                               6.68461  ...    not relevant   \n",
       "2657                               6.68461  ...    not relevant   \n",
       "2661                               6.68461  ...    not relevant   \n",
       "\n",
       "      label:STAIRS_-_GOING_UP  label:STAIRS_-_GOING_DOWN  label:OR_standing  \\\n",
       "1517             not relevant               not relevant       not relevant   \n",
       "2635             not relevant               not relevant       not relevant   \n",
       "2642             not relevant               not relevant       not relevant   \n",
       "2647             not relevant               not relevant       not relevant   \n",
       "2656             not relevant               not relevant       not relevant   \n",
       "2657             not relevant               not relevant       not relevant   \n",
       "2661             not relevant               not relevant       not relevant   \n",
       "\n",
       "      label:AT_SCHOOL  label:PHONE_IN_HAND  label:PHONE_ON_TABLE  \\\n",
       "1517     not relevant         not relevant              relevant   \n",
       "2635     not relevant         not relevant              relevant   \n",
       "2642     not relevant         not relevant              relevant   \n",
       "2647     not relevant         not relevant              relevant   \n",
       "2656     not relevant         not relevant              relevant   \n",
       "2657     not relevant         not relevant              relevant   \n",
       "2661     not relevant         not relevant              relevant   \n",
       "\n",
       "      label:WITH_CO-WORKERS  label:WITH_FRIENDS  label_source  \n",
       "1517           not relevant        not relevant             2  \n",
       "2635           not relevant        not relevant             2  \n",
       "2642           not relevant        not relevant             2  \n",
       "2647           not relevant        not relevant             2  \n",
       "2656           not relevant        not relevant             2  \n",
       "2657           not relevant        not relevant             2  \n",
       "2661           not relevant        not relevant             2  \n",
       "\n",
       "[7 rows x 256 columns]"
      ]
     },
     "execution_count": 96,
     "metadata": {},
     "output_type": "execute_result"
    }
   ],
   "source": [
    "df3= df2.fillna(method='bfill')\n",
    "df3"
   ]
  },
  {
   "cell_type": "markdown",
   "metadata": {},
   "source": [
    "**the rest of the code shows the methods and the model that will be used for our data after cleaning and prepare it.Unfortunately , i did not test the rest of the code because i don't have enough time for that, i hope you like my work and thank you :)**"
   ]
  },
  {
   "cell_type": "markdown",
   "metadata": {},
   "source": [
    "***Feature Selection***"
   ]
  },
  {
   "cell_type": "code",
   "execution_count": null,
   "metadata": {},
   "outputs": [],
   "source": [
    "# Correlation analysis\n",
    "corr = df3.corr()\n",
    "corr_label = abs(corr[\"raw_acc:magnitude_stats:percentile75\"])\n",
    "relevant_features = corr_label[corr_label>0.1]\n",
    "\n",
    "# Feature importance ranking\n",
    "from sklearn.ensemble import ExtraTreesClassifier\n",
    "\n",
    "X = df3.iloc[:, :-1]\n",
    "y = df3.iloc[:, -1]\n",
    "model = ExtraTreesClassifier()\n",
    "model.fit(X, y)\n",
    "importances = model.feature_importances_\n",
    "\n",
    "# Feature selection using RFE\n",
    "from sklearn.feature_selection import RFE\n",
    "from sklearn.linear_model import LogisticRegression\n",
    "\n",
    "model = LogisticRegression()\n",
    "rfe = RFE(model, 10)\n",
    "X = df3.iloc[:, :-1]\n",
    "y = df3.iloc[:, -1]\n",
    "fit = rfe.fit(X, y)\n",
    "selected_features = X.columns[fit.support_]\n"
   ]
  },
  {
   "cell_type": "markdown",
   "metadata": {},
   "source": [
    "***Building model***"
   ]
  },
  {
   "cell_type": "code",
   "execution_count": null,
   "metadata": {},
   "outputs": [],
   "source": [
    "from sklearn.model_selection import train_test_split\n",
    "\n",
    "X_train, X_test, y_train, y_test = train_test_split(X, y, test_size=0.3, random_state=42)\n"
   ]
  },
  {
   "cell_type": "code",
   "execution_count": null,
   "metadata": {},
   "outputs": [],
   "source": [
    "from sklearn.linear_model import LogisticRegression\n",
    "\n",
    "model = LogisticRegression()\n",
    "model.fit(X_train, y_train)\n",
    "y_pred = model.predict(X_test)"
   ]
  }
 ],
 "metadata": {
  "interpreter": {
   "hash": "0a13321c52287d61bb8432789475d2f6194374a154d2c06cd882099613825088"
  },
  "kernelspec": {
   "display_name": "Python 3.9.13 64-bit ('base': conda)",
   "name": "python3"
  },
  "language_info": {
   "codemirror_mode": {
    "name": "ipython",
    "version": 3
   },
   "file_extension": ".py",
   "mimetype": "text/x-python",
   "name": "python",
   "nbconvert_exporter": "python",
   "pygments_lexer": "ipython3",
   "version": "3.9.13"
  },
  "orig_nbformat": 4
 },
 "nbformat": 4,
 "nbformat_minor": 2
}
